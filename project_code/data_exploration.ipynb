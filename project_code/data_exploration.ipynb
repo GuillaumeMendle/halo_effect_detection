{
 "cells": [
  {
   "cell_type": "code",
   "execution_count": 1,
   "metadata": {},
   "outputs": [],
   "source": [
    "import pandas as pd\n",
    "import numpy as np\n",
    "import os\n",
    "import pyvis\n",
    "import networkx as nx\n",
    "from matplotlib import pyplot as plt\n",
    "from itertools import product\n",
    "import plotly.graph_objects as go\n",
    "import plotly.express as px\n",
    "# pip install --upgrade nbformat"
   ]
  },
  {
   "cell_type": "code",
   "execution_count": 2,
   "metadata": {},
   "outputs": [],
   "source": [
    "pd.set_option('display.max_columns', None)"
   ]
  },
  {
   "cell_type": "code",
   "execution_count": 3,
   "metadata": {},
   "outputs": [],
   "source": [
    "current_directory = os.getcwd()"
   ]
  },
  {
   "cell_type": "code",
   "execution_count": 4,
   "metadata": {},
   "outputs": [],
   "source": [
    "skus_data = pd.read_csv(f\"{current_directory}/data/skus.csv\", delimiter = \",\")\n",
    "transactions_data = pd.read_csv(f\"{current_directory}/data/transactions.csv\", delimiter = \",\")"
   ]
  },
  {
   "cell_type": "markdown",
   "metadata": {},
   "source": [
    "- **REVENUE = SALE_PRICE_EX_VAT * QTY**\n",
    "- **SALE_PRICE_EX_VAT = NORMAL PRICE - DISCOUNT**"
   ]
  },
  {
   "cell_type": "code",
   "execution_count": 5,
   "metadata": {},
   "outputs": [
    {
     "data": {
      "text/plain": [
       "Index(['SKU', 'ITEM_DESCRIPTION', 'DEPARTMENT', 'CATEGORY', 'SUBCATEGORY1',\n",
       "       'SUBCATEGORY2', 'BRAND', 'ITEM_WEIGHT', 'ITEM_UNIT_OF_MEASURE'],\n",
       "      dtype='object')"
      ]
     },
     "execution_count": 5,
     "metadata": {},
     "output_type": "execute_result"
    }
   ],
   "source": [
    "skus_data.columns"
   ]
  },
  {
   "cell_type": "markdown",
   "metadata": {},
   "source": [
    "### Departments and categories analysis"
   ]
  },
  {
   "cell_type": "code",
   "execution_count": 18,
   "metadata": {},
   "outputs": [],
   "source": [
    "# skus_data[skus_data[\"DEPARTMENT\"] == \"Misc.\"] ## Get rid of that\n",
    "\n",
    "# skus_data[skus_data[\"DEPARTMENT\"] == \"Services\"] ## To get rid of? This is dog only\n",
    "\n",
    "\n",
    "# skus_data[skus_data[\"DEPARTMENT\"] == \"Weighed\"] ## Distinguish per category: 'Bird', 'Dog', 'Pond', 'Wildbird'\n",
    "## Dom.Bird and Wildbird can be regrouped as Bird"
   ]
  },
  {
   "cell_type": "code",
   "execution_count": 19,
   "metadata": {},
   "outputs": [],
   "source": [
    "hierarchical_categories = skus_data[[\"DEPARTMENT\", \"CATEGORY\"]].drop_duplicates()\n",
    "# fig = px.sunburst(hierarchical_categories, path=[\"DEPARTMENT\", \"CATEGORY\"], title=\"Sunburst Chart Example\")\n",
    "# fig.show()"
   ]
  },
  {
   "cell_type": "code",
   "execution_count": null,
   "metadata": {},
   "outputs": [
    {
     "data": {
      "application/vnd.plotly.v1+json": {
       "config": {
        "plotlyServerURL": "https://plot.ly"
       },
       "data": [
        {
         "branchvalues": "total",
         "domain": {
          "x": [
           0,
           1
          ],
          "y": [
           0,
           1
          ]
         },
         "hovertemplate": "labels=%{label}<br>count=%{value}<br>parent=%{parent}<br>id=%{id}<extra></extra>",
         "ids": [
          "Bird/Accessory",
          "Cat/Accessory",
          "Dog/Accessory",
          "Sm.Animal/Accessory",
          "Weighed/Bird",
          "Weighed/Dog",
          "Bird/Food",
          "Cat/Food",
          "Dog/Food",
          "Dom.Bird/Food",
          "Reptile/Food",
          "Sm.Animal/Food",
          "Wildbird/Food",
          "Services/Grooming",
          "Cat/Litter",
          "Cat/Medical",
          "Dog/Medical",
          "Misc./Na",
          "Misc./Other",
          "Weighed/Pond",
          "Cat/Toys",
          "Dog/Toys",
          "Bird/Treat",
          "Cat/Treat",
          "Dog/Treat",
          "Sm.Animal/Treat",
          "Wildbird/Treat",
          "Services/Vet",
          "Misc./Vouchers",
          "Weighed/Wildbird",
          "Bird",
          "Cat",
          "Dog",
          "Dom.Bird",
          "Misc.",
          "Reptile",
          "Services",
          "Sm.Animal",
          "Weighed",
          "Wildbird"
         ],
         "labels": [
          "Accessory",
          "Accessory",
          "Accessory",
          "Accessory",
          "Bird",
          "Dog",
          "Food",
          "Food",
          "Food",
          "Food",
          "Food",
          "Food",
          "Food",
          "Grooming",
          "Litter",
          "Medical",
          "Medical",
          "Na",
          "Other",
          "Pond",
          "Toys",
          "Toys",
          "Treat",
          "Treat",
          "Treat",
          "Treat",
          "Treat",
          "Vet",
          "Vouchers",
          "Wildbird",
          "Bird",
          "Cat",
          "Dog",
          "Dom.Bird",
          "Misc.",
          "Reptile",
          "Services",
          "Sm.Animal",
          "Weighed",
          "Wildbird"
         ],
         "name": "",
         "parents": [
          "Bird",
          "Cat",
          "Dog",
          "Sm.Animal",
          "Weighed",
          "Weighed",
          "Bird",
          "Cat",
          "Dog",
          "Dom.Bird",
          "Reptile",
          "Sm.Animal",
          "Wildbird",
          "Services",
          "Cat",
          "Cat",
          "Dog",
          "Misc.",
          "Misc.",
          "Weighed",
          "Cat",
          "Dog",
          "Bird",
          "Cat",
          "Dog",
          "Sm.Animal",
          "Wildbird",
          "Services",
          "Misc.",
          "Weighed",
          "",
          "",
          "",
          "",
          "",
          "",
          "",
          "",
          "",
          ""
         ],
         "type": "treemap",
         "values": [
          1,
          1,
          1,
          1,
          1,
          1,
          1,
          1,
          1,
          1,
          1,
          1,
          1,
          1,
          1,
          1,
          1,
          1,
          1,
          1,
          1,
          1,
          1,
          1,
          1,
          1,
          1,
          1,
          1,
          1,
          3,
          6,
          5,
          1,
          3,
          1,
          2,
          3,
          4,
          2
         ]
        }
       ],
       "layout": {
        "legend": {
         "tracegroupgap": 0
        },
        "template": {
         "data": {
          "bar": [
           {
            "error_x": {
             "color": "#2a3f5f"
            },
            "error_y": {
             "color": "#2a3f5f"
            },
            "marker": {
             "line": {
              "color": "#E5ECF6",
              "width": 0.5
             },
             "pattern": {
              "fillmode": "overlay",
              "size": 10,
              "solidity": 0.2
             }
            },
            "type": "bar"
           }
          ],
          "barpolar": [
           {
            "marker": {
             "line": {
              "color": "#E5ECF6",
              "width": 0.5
             },
             "pattern": {
              "fillmode": "overlay",
              "size": 10,
              "solidity": 0.2
             }
            },
            "type": "barpolar"
           }
          ],
          "carpet": [
           {
            "aaxis": {
             "endlinecolor": "#2a3f5f",
             "gridcolor": "white",
             "linecolor": "white",
             "minorgridcolor": "white",
             "startlinecolor": "#2a3f5f"
            },
            "baxis": {
             "endlinecolor": "#2a3f5f",
             "gridcolor": "white",
             "linecolor": "white",
             "minorgridcolor": "white",
             "startlinecolor": "#2a3f5f"
            },
            "type": "carpet"
           }
          ],
          "choropleth": [
           {
            "colorbar": {
             "outlinewidth": 0,
             "ticks": ""
            },
            "type": "choropleth"
           }
          ],
          "contour": [
           {
            "colorbar": {
             "outlinewidth": 0,
             "ticks": ""
            },
            "colorscale": [
             [
              0,
              "#0d0887"
             ],
             [
              0.1111111111111111,
              "#46039f"
             ],
             [
              0.2222222222222222,
              "#7201a8"
             ],
             [
              0.3333333333333333,
              "#9c179e"
             ],
             [
              0.4444444444444444,
              "#bd3786"
             ],
             [
              0.5555555555555556,
              "#d8576b"
             ],
             [
              0.6666666666666666,
              "#ed7953"
             ],
             [
              0.7777777777777778,
              "#fb9f3a"
             ],
             [
              0.8888888888888888,
              "#fdca26"
             ],
             [
              1,
              "#f0f921"
             ]
            ],
            "type": "contour"
           }
          ],
          "contourcarpet": [
           {
            "colorbar": {
             "outlinewidth": 0,
             "ticks": ""
            },
            "type": "contourcarpet"
           }
          ],
          "heatmap": [
           {
            "colorbar": {
             "outlinewidth": 0,
             "ticks": ""
            },
            "colorscale": [
             [
              0,
              "#0d0887"
             ],
             [
              0.1111111111111111,
              "#46039f"
             ],
             [
              0.2222222222222222,
              "#7201a8"
             ],
             [
              0.3333333333333333,
              "#9c179e"
             ],
             [
              0.4444444444444444,
              "#bd3786"
             ],
             [
              0.5555555555555556,
              "#d8576b"
             ],
             [
              0.6666666666666666,
              "#ed7953"
             ],
             [
              0.7777777777777778,
              "#fb9f3a"
             ],
             [
              0.8888888888888888,
              "#fdca26"
             ],
             [
              1,
              "#f0f921"
             ]
            ],
            "type": "heatmap"
           }
          ],
          "heatmapgl": [
           {
            "colorbar": {
             "outlinewidth": 0,
             "ticks": ""
            },
            "colorscale": [
             [
              0,
              "#0d0887"
             ],
             [
              0.1111111111111111,
              "#46039f"
             ],
             [
              0.2222222222222222,
              "#7201a8"
             ],
             [
              0.3333333333333333,
              "#9c179e"
             ],
             [
              0.4444444444444444,
              "#bd3786"
             ],
             [
              0.5555555555555556,
              "#d8576b"
             ],
             [
              0.6666666666666666,
              "#ed7953"
             ],
             [
              0.7777777777777778,
              "#fb9f3a"
             ],
             [
              0.8888888888888888,
              "#fdca26"
             ],
             [
              1,
              "#f0f921"
             ]
            ],
            "type": "heatmapgl"
           }
          ],
          "histogram": [
           {
            "marker": {
             "pattern": {
              "fillmode": "overlay",
              "size": 10,
              "solidity": 0.2
             }
            },
            "type": "histogram"
           }
          ],
          "histogram2d": [
           {
            "colorbar": {
             "outlinewidth": 0,
             "ticks": ""
            },
            "colorscale": [
             [
              0,
              "#0d0887"
             ],
             [
              0.1111111111111111,
              "#46039f"
             ],
             [
              0.2222222222222222,
              "#7201a8"
             ],
             [
              0.3333333333333333,
              "#9c179e"
             ],
             [
              0.4444444444444444,
              "#bd3786"
             ],
             [
              0.5555555555555556,
              "#d8576b"
             ],
             [
              0.6666666666666666,
              "#ed7953"
             ],
             [
              0.7777777777777778,
              "#fb9f3a"
             ],
             [
              0.8888888888888888,
              "#fdca26"
             ],
             [
              1,
              "#f0f921"
             ]
            ],
            "type": "histogram2d"
           }
          ],
          "histogram2dcontour": [
           {
            "colorbar": {
             "outlinewidth": 0,
             "ticks": ""
            },
            "colorscale": [
             [
              0,
              "#0d0887"
             ],
             [
              0.1111111111111111,
              "#46039f"
             ],
             [
              0.2222222222222222,
              "#7201a8"
             ],
             [
              0.3333333333333333,
              "#9c179e"
             ],
             [
              0.4444444444444444,
              "#bd3786"
             ],
             [
              0.5555555555555556,
              "#d8576b"
             ],
             [
              0.6666666666666666,
              "#ed7953"
             ],
             [
              0.7777777777777778,
              "#fb9f3a"
             ],
             [
              0.8888888888888888,
              "#fdca26"
             ],
             [
              1,
              "#f0f921"
             ]
            ],
            "type": "histogram2dcontour"
           }
          ],
          "mesh3d": [
           {
            "colorbar": {
             "outlinewidth": 0,
             "ticks": ""
            },
            "type": "mesh3d"
           }
          ],
          "parcoords": [
           {
            "line": {
             "colorbar": {
              "outlinewidth": 0,
              "ticks": ""
             }
            },
            "type": "parcoords"
           }
          ],
          "pie": [
           {
            "automargin": true,
            "type": "pie"
           }
          ],
          "scatter": [
           {
            "fillpattern": {
             "fillmode": "overlay",
             "size": 10,
             "solidity": 0.2
            },
            "type": "scatter"
           }
          ],
          "scatter3d": [
           {
            "line": {
             "colorbar": {
              "outlinewidth": 0,
              "ticks": ""
             }
            },
            "marker": {
             "colorbar": {
              "outlinewidth": 0,
              "ticks": ""
             }
            },
            "type": "scatter3d"
           }
          ],
          "scattercarpet": [
           {
            "marker": {
             "colorbar": {
              "outlinewidth": 0,
              "ticks": ""
             }
            },
            "type": "scattercarpet"
           }
          ],
          "scattergeo": [
           {
            "marker": {
             "colorbar": {
              "outlinewidth": 0,
              "ticks": ""
             }
            },
            "type": "scattergeo"
           }
          ],
          "scattergl": [
           {
            "marker": {
             "colorbar": {
              "outlinewidth": 0,
              "ticks": ""
             }
            },
            "type": "scattergl"
           }
          ],
          "scattermapbox": [
           {
            "marker": {
             "colorbar": {
              "outlinewidth": 0,
              "ticks": ""
             }
            },
            "type": "scattermapbox"
           }
          ],
          "scatterpolar": [
           {
            "marker": {
             "colorbar": {
              "outlinewidth": 0,
              "ticks": ""
             }
            },
            "type": "scatterpolar"
           }
          ],
          "scatterpolargl": [
           {
            "marker": {
             "colorbar": {
              "outlinewidth": 0,
              "ticks": ""
             }
            },
            "type": "scatterpolargl"
           }
          ],
          "scatterternary": [
           {
            "marker": {
             "colorbar": {
              "outlinewidth": 0,
              "ticks": ""
             }
            },
            "type": "scatterternary"
           }
          ],
          "surface": [
           {
            "colorbar": {
             "outlinewidth": 0,
             "ticks": ""
            },
            "colorscale": [
             [
              0,
              "#0d0887"
             ],
             [
              0.1111111111111111,
              "#46039f"
             ],
             [
              0.2222222222222222,
              "#7201a8"
             ],
             [
              0.3333333333333333,
              "#9c179e"
             ],
             [
              0.4444444444444444,
              "#bd3786"
             ],
             [
              0.5555555555555556,
              "#d8576b"
             ],
             [
              0.6666666666666666,
              "#ed7953"
             ],
             [
              0.7777777777777778,
              "#fb9f3a"
             ],
             [
              0.8888888888888888,
              "#fdca26"
             ],
             [
              1,
              "#f0f921"
             ]
            ],
            "type": "surface"
           }
          ],
          "table": [
           {
            "cells": {
             "fill": {
              "color": "#EBF0F8"
             },
             "line": {
              "color": "white"
             }
            },
            "header": {
             "fill": {
              "color": "#C8D4E3"
             },
             "line": {
              "color": "white"
             }
            },
            "type": "table"
           }
          ]
         },
         "layout": {
          "annotationdefaults": {
           "arrowcolor": "#2a3f5f",
           "arrowhead": 0,
           "arrowwidth": 1
          },
          "autotypenumbers": "strict",
          "coloraxis": {
           "colorbar": {
            "outlinewidth": 0,
            "ticks": ""
           }
          },
          "colorscale": {
           "diverging": [
            [
             0,
             "#8e0152"
            ],
            [
             0.1,
             "#c51b7d"
            ],
            [
             0.2,
             "#de77ae"
            ],
            [
             0.3,
             "#f1b6da"
            ],
            [
             0.4,
             "#fde0ef"
            ],
            [
             0.5,
             "#f7f7f7"
            ],
            [
             0.6,
             "#e6f5d0"
            ],
            [
             0.7,
             "#b8e186"
            ],
            [
             0.8,
             "#7fbc41"
            ],
            [
             0.9,
             "#4d9221"
            ],
            [
             1,
             "#276419"
            ]
           ],
           "sequential": [
            [
             0,
             "#0d0887"
            ],
            [
             0.1111111111111111,
             "#46039f"
            ],
            [
             0.2222222222222222,
             "#7201a8"
            ],
            [
             0.3333333333333333,
             "#9c179e"
            ],
            [
             0.4444444444444444,
             "#bd3786"
            ],
            [
             0.5555555555555556,
             "#d8576b"
            ],
            [
             0.6666666666666666,
             "#ed7953"
            ],
            [
             0.7777777777777778,
             "#fb9f3a"
            ],
            [
             0.8888888888888888,
             "#fdca26"
            ],
            [
             1,
             "#f0f921"
            ]
           ],
           "sequentialminus": [
            [
             0,
             "#0d0887"
            ],
            [
             0.1111111111111111,
             "#46039f"
            ],
            [
             0.2222222222222222,
             "#7201a8"
            ],
            [
             0.3333333333333333,
             "#9c179e"
            ],
            [
             0.4444444444444444,
             "#bd3786"
            ],
            [
             0.5555555555555556,
             "#d8576b"
            ],
            [
             0.6666666666666666,
             "#ed7953"
            ],
            [
             0.7777777777777778,
             "#fb9f3a"
            ],
            [
             0.8888888888888888,
             "#fdca26"
            ],
            [
             1,
             "#f0f921"
            ]
           ]
          },
          "colorway": [
           "#636efa",
           "#EF553B",
           "#00cc96",
           "#ab63fa",
           "#FFA15A",
           "#19d3f3",
           "#FF6692",
           "#B6E880",
           "#FF97FF",
           "#FECB52"
          ],
          "font": {
           "color": "#2a3f5f"
          },
          "geo": {
           "bgcolor": "white",
           "lakecolor": "white",
           "landcolor": "#E5ECF6",
           "showlakes": true,
           "showland": true,
           "subunitcolor": "white"
          },
          "hoverlabel": {
           "align": "left"
          },
          "hovermode": "closest",
          "mapbox": {
           "style": "light"
          },
          "paper_bgcolor": "white",
          "plot_bgcolor": "#E5ECF6",
          "polar": {
           "angularaxis": {
            "gridcolor": "white",
            "linecolor": "white",
            "ticks": ""
           },
           "bgcolor": "#E5ECF6",
           "radialaxis": {
            "gridcolor": "white",
            "linecolor": "white",
            "ticks": ""
           }
          },
          "scene": {
           "xaxis": {
            "backgroundcolor": "#E5ECF6",
            "gridcolor": "white",
            "gridwidth": 2,
            "linecolor": "white",
            "showbackground": true,
            "ticks": "",
            "zerolinecolor": "white"
           },
           "yaxis": {
            "backgroundcolor": "#E5ECF6",
            "gridcolor": "white",
            "gridwidth": 2,
            "linecolor": "white",
            "showbackground": true,
            "ticks": "",
            "zerolinecolor": "white"
           },
           "zaxis": {
            "backgroundcolor": "#E5ECF6",
            "gridcolor": "white",
            "gridwidth": 2,
            "linecolor": "white",
            "showbackground": true,
            "ticks": "",
            "zerolinecolor": "white"
           }
          },
          "shapedefaults": {
           "line": {
            "color": "#2a3f5f"
           }
          },
          "ternary": {
           "aaxis": {
            "gridcolor": "white",
            "linecolor": "white",
            "ticks": ""
           },
           "baxis": {
            "gridcolor": "white",
            "linecolor": "white",
            "ticks": ""
           },
           "bgcolor": "#E5ECF6",
           "caxis": {
            "gridcolor": "white",
            "linecolor": "white",
            "ticks": ""
           }
          },
          "title": {
           "x": 0.05
          },
          "xaxis": {
           "automargin": true,
           "gridcolor": "white",
           "linecolor": "white",
           "ticks": "",
           "title": {
            "standoff": 15
           },
           "zerolinecolor": "white",
           "zerolinewidth": 2
          },
          "yaxis": {
           "automargin": true,
           "gridcolor": "white",
           "linecolor": "white",
           "ticks": "",
           "title": {
            "standoff": 15
           },
           "zerolinecolor": "white",
           "zerolinewidth": 2
          }
         }
        },
        "title": {
         "text": "Categories in departments"
        }
       }
      },
      "text/html": [
       "<div>                            <div id=\"93a51207-53f4-45c3-bbfd-5fc7dd1d7290\" class=\"plotly-graph-div\" style=\"height:525px; width:100%;\"></div>            <script type=\"text/javascript\">                require([\"plotly\"], function(Plotly) {                    window.PLOTLYENV=window.PLOTLYENV || {};                                    if (document.getElementById(\"93a51207-53f4-45c3-bbfd-5fc7dd1d7290\")) {                    Plotly.newPlot(                        \"93a51207-53f4-45c3-bbfd-5fc7dd1d7290\",                        [{\"branchvalues\":\"total\",\"domain\":{\"x\":[0.0,1.0],\"y\":[0.0,1.0]},\"hovertemplate\":\"labels=%{label}\\u003cbr\\u003ecount=%{value}\\u003cbr\\u003eparent=%{parent}\\u003cbr\\u003eid=%{id}\\u003cextra\\u003e\\u003c\\u002fextra\\u003e\",\"ids\":[\"Bird\\u002fAccessory\",\"Cat\\u002fAccessory\",\"Dog\\u002fAccessory\",\"Sm.Animal\\u002fAccessory\",\"Weighed\\u002fBird\",\"Weighed\\u002fDog\",\"Bird\\u002fFood\",\"Cat\\u002fFood\",\"Dog\\u002fFood\",\"Dom.Bird\\u002fFood\",\"Reptile\\u002fFood\",\"Sm.Animal\\u002fFood\",\"Wildbird\\u002fFood\",\"Services\\u002fGrooming\",\"Cat\\u002fLitter\",\"Cat\\u002fMedical\",\"Dog\\u002fMedical\",\"Misc.\\u002fNa\",\"Misc.\\u002fOther\",\"Weighed\\u002fPond\",\"Cat\\u002fToys\",\"Dog\\u002fToys\",\"Bird\\u002fTreat\",\"Cat\\u002fTreat\",\"Dog\\u002fTreat\",\"Sm.Animal\\u002fTreat\",\"Wildbird\\u002fTreat\",\"Services\\u002fVet\",\"Misc.\\u002fVouchers\",\"Weighed\\u002fWildbird\",\"Bird\",\"Cat\",\"Dog\",\"Dom.Bird\",\"Misc.\",\"Reptile\",\"Services\",\"Sm.Animal\",\"Weighed\",\"Wildbird\"],\"labels\":[\"Accessory\",\"Accessory\",\"Accessory\",\"Accessory\",\"Bird\",\"Dog\",\"Food\",\"Food\",\"Food\",\"Food\",\"Food\",\"Food\",\"Food\",\"Grooming\",\"Litter\",\"Medical\",\"Medical\",\"Na\",\"Other\",\"Pond\",\"Toys\",\"Toys\",\"Treat\",\"Treat\",\"Treat\",\"Treat\",\"Treat\",\"Vet\",\"Vouchers\",\"Wildbird\",\"Bird\",\"Cat\",\"Dog\",\"Dom.Bird\",\"Misc.\",\"Reptile\",\"Services\",\"Sm.Animal\",\"Weighed\",\"Wildbird\"],\"name\":\"\",\"parents\":[\"Bird\",\"Cat\",\"Dog\",\"Sm.Animal\",\"Weighed\",\"Weighed\",\"Bird\",\"Cat\",\"Dog\",\"Dom.Bird\",\"Reptile\",\"Sm.Animal\",\"Wildbird\",\"Services\",\"Cat\",\"Cat\",\"Dog\",\"Misc.\",\"Misc.\",\"Weighed\",\"Cat\",\"Dog\",\"Bird\",\"Cat\",\"Dog\",\"Sm.Animal\",\"Wildbird\",\"Services\",\"Misc.\",\"Weighed\",\"\",\"\",\"\",\"\",\"\",\"\",\"\",\"\",\"\",\"\"],\"values\":[1,1,1,1,1,1,1,1,1,1,1,1,1,1,1,1,1,1,1,1,1,1,1,1,1,1,1,1,1,1,3,6,5,1,3,1,2,3,4,2],\"type\":\"treemap\"}],                        {\"template\":{\"data\":{\"histogram2dcontour\":[{\"type\":\"histogram2dcontour\",\"colorbar\":{\"outlinewidth\":0,\"ticks\":\"\"},\"colorscale\":[[0.0,\"#0d0887\"],[0.1111111111111111,\"#46039f\"],[0.2222222222222222,\"#7201a8\"],[0.3333333333333333,\"#9c179e\"],[0.4444444444444444,\"#bd3786\"],[0.5555555555555556,\"#d8576b\"],[0.6666666666666666,\"#ed7953\"],[0.7777777777777778,\"#fb9f3a\"],[0.8888888888888888,\"#fdca26\"],[1.0,\"#f0f921\"]]}],\"choropleth\":[{\"type\":\"choropleth\",\"colorbar\":{\"outlinewidth\":0,\"ticks\":\"\"}}],\"histogram2d\":[{\"type\":\"histogram2d\",\"colorbar\":{\"outlinewidth\":0,\"ticks\":\"\"},\"colorscale\":[[0.0,\"#0d0887\"],[0.1111111111111111,\"#46039f\"],[0.2222222222222222,\"#7201a8\"],[0.3333333333333333,\"#9c179e\"],[0.4444444444444444,\"#bd3786\"],[0.5555555555555556,\"#d8576b\"],[0.6666666666666666,\"#ed7953\"],[0.7777777777777778,\"#fb9f3a\"],[0.8888888888888888,\"#fdca26\"],[1.0,\"#f0f921\"]]}],\"heatmap\":[{\"type\":\"heatmap\",\"colorbar\":{\"outlinewidth\":0,\"ticks\":\"\"},\"colorscale\":[[0.0,\"#0d0887\"],[0.1111111111111111,\"#46039f\"],[0.2222222222222222,\"#7201a8\"],[0.3333333333333333,\"#9c179e\"],[0.4444444444444444,\"#bd3786\"],[0.5555555555555556,\"#d8576b\"],[0.6666666666666666,\"#ed7953\"],[0.7777777777777778,\"#fb9f3a\"],[0.8888888888888888,\"#fdca26\"],[1.0,\"#f0f921\"]]}],\"heatmapgl\":[{\"type\":\"heatmapgl\",\"colorbar\":{\"outlinewidth\":0,\"ticks\":\"\"},\"colorscale\":[[0.0,\"#0d0887\"],[0.1111111111111111,\"#46039f\"],[0.2222222222222222,\"#7201a8\"],[0.3333333333333333,\"#9c179e\"],[0.4444444444444444,\"#bd3786\"],[0.5555555555555556,\"#d8576b\"],[0.6666666666666666,\"#ed7953\"],[0.7777777777777778,\"#fb9f3a\"],[0.8888888888888888,\"#fdca26\"],[1.0,\"#f0f921\"]]}],\"contourcarpet\":[{\"type\":\"contourcarpet\",\"colorbar\":{\"outlinewidth\":0,\"ticks\":\"\"}}],\"contour\":[{\"type\":\"contour\",\"colorbar\":{\"outlinewidth\":0,\"ticks\":\"\"},\"colorscale\":[[0.0,\"#0d0887\"],[0.1111111111111111,\"#46039f\"],[0.2222222222222222,\"#7201a8\"],[0.3333333333333333,\"#9c179e\"],[0.4444444444444444,\"#bd3786\"],[0.5555555555555556,\"#d8576b\"],[0.6666666666666666,\"#ed7953\"],[0.7777777777777778,\"#fb9f3a\"],[0.8888888888888888,\"#fdca26\"],[1.0,\"#f0f921\"]]}],\"surface\":[{\"type\":\"surface\",\"colorbar\":{\"outlinewidth\":0,\"ticks\":\"\"},\"colorscale\":[[0.0,\"#0d0887\"],[0.1111111111111111,\"#46039f\"],[0.2222222222222222,\"#7201a8\"],[0.3333333333333333,\"#9c179e\"],[0.4444444444444444,\"#bd3786\"],[0.5555555555555556,\"#d8576b\"],[0.6666666666666666,\"#ed7953\"],[0.7777777777777778,\"#fb9f3a\"],[0.8888888888888888,\"#fdca26\"],[1.0,\"#f0f921\"]]}],\"mesh3d\":[{\"type\":\"mesh3d\",\"colorbar\":{\"outlinewidth\":0,\"ticks\":\"\"}}],\"scatter\":[{\"fillpattern\":{\"fillmode\":\"overlay\",\"size\":10,\"solidity\":0.2},\"type\":\"scatter\"}],\"parcoords\":[{\"type\":\"parcoords\",\"line\":{\"colorbar\":{\"outlinewidth\":0,\"ticks\":\"\"}}}],\"scatterpolargl\":[{\"type\":\"scatterpolargl\",\"marker\":{\"colorbar\":{\"outlinewidth\":0,\"ticks\":\"\"}}}],\"bar\":[{\"error_x\":{\"color\":\"#2a3f5f\"},\"error_y\":{\"color\":\"#2a3f5f\"},\"marker\":{\"line\":{\"color\":\"#E5ECF6\",\"width\":0.5},\"pattern\":{\"fillmode\":\"overlay\",\"size\":10,\"solidity\":0.2}},\"type\":\"bar\"}],\"scattergeo\":[{\"type\":\"scattergeo\",\"marker\":{\"colorbar\":{\"outlinewidth\":0,\"ticks\":\"\"}}}],\"scatterpolar\":[{\"type\":\"scatterpolar\",\"marker\":{\"colorbar\":{\"outlinewidth\":0,\"ticks\":\"\"}}}],\"histogram\":[{\"marker\":{\"pattern\":{\"fillmode\":\"overlay\",\"size\":10,\"solidity\":0.2}},\"type\":\"histogram\"}],\"scattergl\":[{\"type\":\"scattergl\",\"marker\":{\"colorbar\":{\"outlinewidth\":0,\"ticks\":\"\"}}}],\"scatter3d\":[{\"type\":\"scatter3d\",\"line\":{\"colorbar\":{\"outlinewidth\":0,\"ticks\":\"\"}},\"marker\":{\"colorbar\":{\"outlinewidth\":0,\"ticks\":\"\"}}}],\"scattermapbox\":[{\"type\":\"scattermapbox\",\"marker\":{\"colorbar\":{\"outlinewidth\":0,\"ticks\":\"\"}}}],\"scatterternary\":[{\"type\":\"scatterternary\",\"marker\":{\"colorbar\":{\"outlinewidth\":0,\"ticks\":\"\"}}}],\"scattercarpet\":[{\"type\":\"scattercarpet\",\"marker\":{\"colorbar\":{\"outlinewidth\":0,\"ticks\":\"\"}}}],\"carpet\":[{\"aaxis\":{\"endlinecolor\":\"#2a3f5f\",\"gridcolor\":\"white\",\"linecolor\":\"white\",\"minorgridcolor\":\"white\",\"startlinecolor\":\"#2a3f5f\"},\"baxis\":{\"endlinecolor\":\"#2a3f5f\",\"gridcolor\":\"white\",\"linecolor\":\"white\",\"minorgridcolor\":\"white\",\"startlinecolor\":\"#2a3f5f\"},\"type\":\"carpet\"}],\"table\":[{\"cells\":{\"fill\":{\"color\":\"#EBF0F8\"},\"line\":{\"color\":\"white\"}},\"header\":{\"fill\":{\"color\":\"#C8D4E3\"},\"line\":{\"color\":\"white\"}},\"type\":\"table\"}],\"barpolar\":[{\"marker\":{\"line\":{\"color\":\"#E5ECF6\",\"width\":0.5},\"pattern\":{\"fillmode\":\"overlay\",\"size\":10,\"solidity\":0.2}},\"type\":\"barpolar\"}],\"pie\":[{\"automargin\":true,\"type\":\"pie\"}]},\"layout\":{\"autotypenumbers\":\"strict\",\"colorway\":[\"#636efa\",\"#EF553B\",\"#00cc96\",\"#ab63fa\",\"#FFA15A\",\"#19d3f3\",\"#FF6692\",\"#B6E880\",\"#FF97FF\",\"#FECB52\"],\"font\":{\"color\":\"#2a3f5f\"},\"hovermode\":\"closest\",\"hoverlabel\":{\"align\":\"left\"},\"paper_bgcolor\":\"white\",\"plot_bgcolor\":\"#E5ECF6\",\"polar\":{\"bgcolor\":\"#E5ECF6\",\"angularaxis\":{\"gridcolor\":\"white\",\"linecolor\":\"white\",\"ticks\":\"\"},\"radialaxis\":{\"gridcolor\":\"white\",\"linecolor\":\"white\",\"ticks\":\"\"}},\"ternary\":{\"bgcolor\":\"#E5ECF6\",\"aaxis\":{\"gridcolor\":\"white\",\"linecolor\":\"white\",\"ticks\":\"\"},\"baxis\":{\"gridcolor\":\"white\",\"linecolor\":\"white\",\"ticks\":\"\"},\"caxis\":{\"gridcolor\":\"white\",\"linecolor\":\"white\",\"ticks\":\"\"}},\"coloraxis\":{\"colorbar\":{\"outlinewidth\":0,\"ticks\":\"\"}},\"colorscale\":{\"sequential\":[[0.0,\"#0d0887\"],[0.1111111111111111,\"#46039f\"],[0.2222222222222222,\"#7201a8\"],[0.3333333333333333,\"#9c179e\"],[0.4444444444444444,\"#bd3786\"],[0.5555555555555556,\"#d8576b\"],[0.6666666666666666,\"#ed7953\"],[0.7777777777777778,\"#fb9f3a\"],[0.8888888888888888,\"#fdca26\"],[1.0,\"#f0f921\"]],\"sequentialminus\":[[0.0,\"#0d0887\"],[0.1111111111111111,\"#46039f\"],[0.2222222222222222,\"#7201a8\"],[0.3333333333333333,\"#9c179e\"],[0.4444444444444444,\"#bd3786\"],[0.5555555555555556,\"#d8576b\"],[0.6666666666666666,\"#ed7953\"],[0.7777777777777778,\"#fb9f3a\"],[0.8888888888888888,\"#fdca26\"],[1.0,\"#f0f921\"]],\"diverging\":[[0,\"#8e0152\"],[0.1,\"#c51b7d\"],[0.2,\"#de77ae\"],[0.3,\"#f1b6da\"],[0.4,\"#fde0ef\"],[0.5,\"#f7f7f7\"],[0.6,\"#e6f5d0\"],[0.7,\"#b8e186\"],[0.8,\"#7fbc41\"],[0.9,\"#4d9221\"],[1,\"#276419\"]]},\"xaxis\":{\"gridcolor\":\"white\",\"linecolor\":\"white\",\"ticks\":\"\",\"title\":{\"standoff\":15},\"zerolinecolor\":\"white\",\"automargin\":true,\"zerolinewidth\":2},\"yaxis\":{\"gridcolor\":\"white\",\"linecolor\":\"white\",\"ticks\":\"\",\"title\":{\"standoff\":15},\"zerolinecolor\":\"white\",\"automargin\":true,\"zerolinewidth\":2},\"scene\":{\"xaxis\":{\"backgroundcolor\":\"#E5ECF6\",\"gridcolor\":\"white\",\"linecolor\":\"white\",\"showbackground\":true,\"ticks\":\"\",\"zerolinecolor\":\"white\",\"gridwidth\":2},\"yaxis\":{\"backgroundcolor\":\"#E5ECF6\",\"gridcolor\":\"white\",\"linecolor\":\"white\",\"showbackground\":true,\"ticks\":\"\",\"zerolinecolor\":\"white\",\"gridwidth\":2},\"zaxis\":{\"backgroundcolor\":\"#E5ECF6\",\"gridcolor\":\"white\",\"linecolor\":\"white\",\"showbackground\":true,\"ticks\":\"\",\"zerolinecolor\":\"white\",\"gridwidth\":2}},\"shapedefaults\":{\"line\":{\"color\":\"#2a3f5f\"}},\"annotationdefaults\":{\"arrowcolor\":\"#2a3f5f\",\"arrowhead\":0,\"arrowwidth\":1},\"geo\":{\"bgcolor\":\"white\",\"landcolor\":\"#E5ECF6\",\"subunitcolor\":\"white\",\"showland\":true,\"showlakes\":true,\"lakecolor\":\"white\"},\"title\":{\"x\":0.05},\"mapbox\":{\"style\":\"light\"}}},\"legend\":{\"tracegroupgap\":0},\"title\":{\"text\":\"Categories in departments\"}},                        {\"responsive\": true}                    ).then(function(){\n",
       "                            \n",
       "var gd = document.getElementById('93a51207-53f4-45c3-bbfd-5fc7dd1d7290');\n",
       "var x = new MutationObserver(function (mutations, observer) {{\n",
       "        var display = window.getComputedStyle(gd).display;\n",
       "        if (!display || display === 'none') {{\n",
       "            console.log([gd, 'removed!']);\n",
       "            Plotly.purge(gd);\n",
       "            observer.disconnect();\n",
       "        }}\n",
       "}});\n",
       "\n",
       "// Listen for the removal of the full notebook cells\n",
       "var notebookContainer = gd.closest('#notebook-container');\n",
       "if (notebookContainer) {{\n",
       "    x.observe(notebookContainer, {childList: true});\n",
       "}}\n",
       "\n",
       "// Listen for the clearing of the current output cell\n",
       "var outputEl = gd.closest('.output');\n",
       "if (outputEl) {{\n",
       "    x.observe(outputEl, {childList: true});\n",
       "}}\n",
       "\n",
       "                        })                };                });            </script>        </div>"
      ]
     },
     "metadata": {},
     "output_type": "display_data"
    }
   ],
   "source": [
    "fig = px.treemap(hierarchical_categories, path=[\"DEPARTMENT\", \"CATEGORY\"], title=\"Categories in departments\")\n"
   ]
  },
  {
   "cell_type": "markdown",
   "metadata": {},
   "source": [
    "### Other SKUs in transactions that are not part of the list of 500 best-selling items"
   ]
  },
  {
   "cell_type": "code",
   "execution_count": 10,
   "metadata": {},
   "outputs": [
    {
     "data": {
      "text/plain": [
       "set()"
      ]
     },
     "execution_count": 10,
     "metadata": {},
     "output_type": "execute_result"
    }
   ],
   "source": [
    "result = {x for x in transactions_data[\"SKU\"].unique() if x not in skus_data[\"SKU\"].unique()}\n",
    "result"
   ]
  },
  {
   "cell_type": "markdown",
   "metadata": {},
   "source": [
    "### Missing SKUs in transactions"
   ]
  },
  {
   "cell_type": "code",
   "execution_count": 6,
   "metadata": {},
   "outputs": [
    {
     "data": {
      "text/html": [
       "<div>\n",
       "<style scoped>\n",
       "    .dataframe tbody tr th:only-of-type {\n",
       "        vertical-align: middle;\n",
       "    }\n",
       "\n",
       "    .dataframe tbody tr th {\n",
       "        vertical-align: top;\n",
       "    }\n",
       "\n",
       "    .dataframe thead th {\n",
       "        text-align: right;\n",
       "    }\n",
       "</style>\n",
       "<table border=\"1\" class=\"dataframe\">\n",
       "  <thead>\n",
       "    <tr style=\"text-align: right;\">\n",
       "      <th></th>\n",
       "      <th>SKU</th>\n",
       "      <th>ITEM_DESCRIPTION</th>\n",
       "      <th>DEPARTMENT</th>\n",
       "      <th>CATEGORY</th>\n",
       "      <th>SUBCATEGORY1</th>\n",
       "      <th>SUBCATEGORY2</th>\n",
       "      <th>BRAND</th>\n",
       "      <th>ITEM_WEIGHT</th>\n",
       "      <th>ITEM_UNIT_OF_MEASURE</th>\n",
       "    </tr>\n",
       "  </thead>\n",
       "  <tbody>\n",
       "    <tr>\n",
       "      <th>46</th>\n",
       "      <td>65813</td>\n",
       "      <td>Sizzlers Bacon Treat Maxi</td>\n",
       "      <td>Dog</td>\n",
       "      <td>Treat</td>\n",
       "      <td>Other</td>\n",
       "      <td>Other</td>\n",
       "      <td>Bakers</td>\n",
       "      <td>0.001</td>\n",
       "      <td>KG</td>\n",
       "    </tr>\n",
       "    <tr>\n",
       "      <th>47</th>\n",
       "      <td>65815</td>\n",
       "      <td>Bacon/Cheese Whirlers Maxi</td>\n",
       "      <td>Dog</td>\n",
       "      <td>Treat</td>\n",
       "      <td>Other</td>\n",
       "      <td>Other</td>\n",
       "      <td>Bakers</td>\n",
       "      <td>0.001</td>\n",
       "      <td>KG</td>\n",
       "    </tr>\n",
       "    <tr>\n",
       "      <th>123</th>\n",
       "      <td>51849</td>\n",
       "      <td>Miss Purfect Strip Teasers</td>\n",
       "      <td>Cat</td>\n",
       "      <td>Treat</td>\n",
       "      <td>Other</td>\n",
       "      <td>Na</td>\n",
       "      <td>Miss Purfect</td>\n",
       "      <td>0.050</td>\n",
       "      <td>KG</td>\n",
       "    </tr>\n",
       "    <tr>\n",
       "      <th>134</th>\n",
       "      <td>54646</td>\n",
       "      <td>Beef Meat Only Dinner</td>\n",
       "      <td>Dog</td>\n",
       "      <td>Food</td>\n",
       "      <td>Frozen</td>\n",
       "      <td>Adult</td>\n",
       "      <td>Durham Animal Feeds</td>\n",
       "      <td>0.500</td>\n",
       "      <td>KG</td>\n",
       "    </tr>\n",
       "    <tr>\n",
       "      <th>189</th>\n",
       "      <td>30365</td>\n",
       "      <td>Delivery</td>\n",
       "      <td>Misc.</td>\n",
       "      <td>Na</td>\n",
       "      <td>Na</td>\n",
       "      <td>Na</td>\n",
       "      <td>NaN</td>\n",
       "      <td>NaN</td>\n",
       "      <td>NaN</td>\n",
       "    </tr>\n",
       "    <tr>\n",
       "      <th>367</th>\n",
       "      <td>50806</td>\n",
       "      <td>Naturals Gig Mv Chkn</td>\n",
       "      <td>Cat</td>\n",
       "      <td>Food</td>\n",
       "      <td>S.S.Wet</td>\n",
       "      <td>Adult</td>\n",
       "      <td>Gourmet</td>\n",
       "      <td>0.810</td>\n",
       "      <td>KG</td>\n",
       "    </tr>\n",
       "    <tr>\n",
       "      <th>498</th>\n",
       "      <td>65495</td>\n",
       "      <td>Chicken Mince</td>\n",
       "      <td>Dog</td>\n",
       "      <td>Food</td>\n",
       "      <td>Frozen</td>\n",
       "      <td>Adult</td>\n",
       "      <td>Raw And Simple</td>\n",
       "      <td>1.500</td>\n",
       "      <td>KG</td>\n",
       "    </tr>\n",
       "  </tbody>\n",
       "</table>\n",
       "</div>"
      ],
      "text/plain": [
       "       SKU            ITEM_DESCRIPTION DEPARTMENT CATEGORY SUBCATEGORY1  \\\n",
       "46   65813   Sizzlers Bacon Treat Maxi        Dog    Treat        Other   \n",
       "47   65815  Bacon/Cheese Whirlers Maxi        Dog    Treat        Other   \n",
       "123  51849  Miss Purfect Strip Teasers        Cat    Treat        Other   \n",
       "134  54646       Beef Meat Only Dinner        Dog     Food       Frozen   \n",
       "189  30365                    Delivery      Misc.       Na           Na   \n",
       "367  50806        Naturals Gig Mv Chkn        Cat     Food      S.S.Wet   \n",
       "498  65495               Chicken Mince        Dog     Food       Frozen   \n",
       "\n",
       "    SUBCATEGORY2                BRAND  ITEM_WEIGHT ITEM_UNIT_OF_MEASURE  \n",
       "46         Other               Bakers        0.001                   KG  \n",
       "47         Other               Bakers        0.001                   KG  \n",
       "123           Na         Miss Purfect        0.050                   KG  \n",
       "134        Adult  Durham Animal Feeds        0.500                   KG  \n",
       "189           Na                  NaN          NaN                  NaN  \n",
       "367        Adult              Gourmet        0.810                   KG  \n",
       "498        Adult       Raw And Simple        1.500                   KG  "
      ]
     },
     "execution_count": 6,
     "metadata": {},
     "output_type": "execute_result"
    }
   ],
   "source": [
    "result2 = {x for x in skus_data[\"SKU\"].unique() if x not in transactions_data[\"SKU\"].unique()}\n",
    "skus_data[skus_data[\"SKU\"].isin(result2)]"
   ]
  },
  {
   "cell_type": "markdown",
   "metadata": {},
   "source": [
    "### Count number of unique items sold together per transaction\n",
    "A purchase will be a unique transaction with possibly multiple items sold at the same time (i.e.: same unique transacation ID).\n",
    "We want to know the distribution of number of items sold per purchase."
   ]
  },
  {
   "cell_type": "code",
   "execution_count": 7,
   "metadata": {},
   "outputs": [
    {
     "data": {
      "text/plain": [
       "<BarContainer object of 12 artists>"
      ]
     },
     "execution_count": 7,
     "metadata": {},
     "output_type": "execute_result"
    },
    {
     "data": {
      "image/png": "[encoded data removed]",
      "text/plain": [
       "<Figure size 640x480 with 1 Axes>"
      ]
     },
     "metadata": {},
     "output_type": "display_data"
    }
   ],
   "source": [
    "sku_transactions_data = transactions_data.groupby([\"TRANSACTION_ID\"]).agg({\n",
    "    \"SKU\" : lambda x : x.nunique()\n",
    "}).reset_index().value_counts(\"SKU\")\n",
    "plt.bar(sku_transactions_data.index, sku_transactions_data.values)"
   ]
  },
  {
   "cell_type": "markdown",
   "metadata": {},
   "source": [
    "### Percentage of transactions with 2 items or more sold"
   ]
  },
  {
   "cell_type": "code",
   "execution_count": 8,
   "metadata": {},
   "outputs": [
    {
     "data": {
      "text/plain": [
       "np.float64(54.0)"
      ]
     },
     "execution_count": 8,
     "metadata": {},
     "output_type": "execute_result"
    }
   ],
   "source": [
    "round(1-sku_transactions_data.loc[1]/sku_transactions_data.sum(), 2)*100"
   ]
  },
  {
   "cell_type": "markdown",
   "metadata": {},
   "source": [
    "### Number of times an item has been bought"
   ]
  },
  {
   "cell_type": "code",
   "execution_count": 9,
   "metadata": {},
   "outputs": [
    {
     "data": {
      "image/png": "[encoded data removed]",
      "text/plain": [
       "<Figure size 640x480 with 1 Axes>"
      ]
     },
     "metadata": {},
     "output_type": "display_data"
    }
   ],
   "source": [
    "item_purchases = transactions_data.groupby([\"SKU\"]).agg(\n",
    "    {\"TRANSACTION_ID\" : \"count\"}\n",
    ").reset_index().rename(columns = {\"TRANSACTION_ID\" : \"TOTAL_TRANSACTION\"})\n",
    "\n",
    "plt.hist(item_purchases[\"TOTAL_TRANSACTION\"], bins = 100);"
   ]
  },
  {
   "cell_type": "code",
   "execution_count": null,
   "metadata": {},
   "outputs": [],
   "source": [
    "transactions_data = transactions_data.merge(item_purchases, on = \"SKU\", how = \"left\")"
   ]
  },
  {
   "cell_type": "markdown",
   "metadata": {},
   "source": [
    "# Low-frequence items analysis\n",
    "What percentage of revenue do we lose by dropping low-frequency items?"
   ]
  },
  {
   "cell_type": "markdown",
   "metadata": {},
   "source": [
    "**REVENUE = SALE_PRICE_EX_VAT * QTY**\n"
   ]
  },
  {
   "cell_type": "code",
   "execution_count": 149,
   "metadata": {},
   "outputs": [
    {
     "data": {
      "text/plain": [
       "np.float64(0.7951121178296454)"
      ]
     },
     "execution_count": 149,
     "metadata": {},
     "output_type": "execute_result"
    }
   ],
   "source": [
    "transactions_data[transactions_data[\"TOTAL_TRANSACTION\"] >= 6][\"REVENUE\"].sum()/transactions_data[\"REVENUE\"].sum()"
   ]
  },
  {
   "cell_type": "markdown",
   "metadata": {},
   "source": [
    "### Check if a transaction ID is unique or unique per store"
   ]
  },
  {
   "cell_type": "code",
   "execution_count": 12,
   "metadata": {},
   "outputs": [
    {
     "data": {
      "text/plain": [
       "1"
      ]
     },
     "execution_count": 12,
     "metadata": {},
     "output_type": "execute_result"
    }
   ],
   "source": [
    "transactions_data.groupby(\"TRANSACTION_ID\").agg({\n",
    "    \"STORE_ID\" : lambda x : x.nunique()\n",
    "    }\n",
    ")[\"STORE_ID\"].nunique()"
   ]
  },
  {
   "cell_type": "markdown",
   "metadata": {},
   "source": [
    "Transaction ID is indeed unique across all the stores. It is not a unique Transaction ID per store."
   ]
  },
  {
   "cell_type": "markdown",
   "metadata": {},
   "source": [
    "### There are negative quantities. Is that returned items? We can drop them as it is only a few transactions.\n"
   ]
  },
  {
   "cell_type": "code",
   "execution_count": 13,
   "metadata": {},
   "outputs": [
    {
     "data": {
      "text/html": [
       "<div>\n",
       "<style scoped>\n",
       "    .dataframe tbody tr th:only-of-type {\n",
       "        vertical-align: middle;\n",
       "    }\n",
       "\n",
       "    .dataframe tbody tr th {\n",
       "        vertical-align: top;\n",
       "    }\n",
       "\n",
       "    .dataframe thead th {\n",
       "        text-align: right;\n",
       "    }\n",
       "</style>\n",
       "<table border=\"1\" class=\"dataframe\">\n",
       "  <thead>\n",
       "    <tr style=\"text-align: right;\">\n",
       "      <th></th>\n",
       "      <th>TRANSACTION_ID</th>\n",
       "      <th>TRANSACTION_LINE_ID</th>\n",
       "      <th>STORE_ID</th>\n",
       "      <th>SKU</th>\n",
       "      <th>SALE_PRICE_EX_VAT</th>\n",
       "      <th>REVENUE</th>\n",
       "      <th>QTY</th>\n",
       "      <th>DISCOUNT</th>\n",
       "      <th>TOTAL_TRANSACTION</th>\n",
       "    </tr>\n",
       "  </thead>\n",
       "  <tbody>\n",
       "    <tr>\n",
       "      <th>1017</th>\n",
       "      <td>126149042</td>\n",
       "      <td>446790067</td>\n",
       "      <td>15</td>\n",
       "      <td>36022</td>\n",
       "      <td>7.11700</td>\n",
       "      <td>-2.8468</td>\n",
       "      <td>-0.4</td>\n",
       "      <td>-0.1498</td>\n",
       "      <td>11</td>\n",
       "    </tr>\n",
       "    <tr>\n",
       "      <th>1100</th>\n",
       "      <td>126104768</td>\n",
       "      <td>446708690</td>\n",
       "      <td>13</td>\n",
       "      <td>62955</td>\n",
       "      <td>1.57500</td>\n",
       "      <td>-1.5750</td>\n",
       "      <td>-1.0</td>\n",
       "      <td>0.0000</td>\n",
       "      <td>27</td>\n",
       "    </tr>\n",
       "    <tr>\n",
       "      <th>1175</th>\n",
       "      <td>125741803</td>\n",
       "      <td>445667330</td>\n",
       "      <td>212</td>\n",
       "      <td>65597</td>\n",
       "      <td>0.00000</td>\n",
       "      <td>0.0000</td>\n",
       "      <td>-1.0</td>\n",
       "      <td>0.0000</td>\n",
       "      <td>150</td>\n",
       "    </tr>\n",
       "    <tr>\n",
       "      <th>3957</th>\n",
       "      <td>125608948</td>\n",
       "      <td>445270684</td>\n",
       "      <td>216</td>\n",
       "      <td>65597</td>\n",
       "      <td>0.00000</td>\n",
       "      <td>0.0000</td>\n",
       "      <td>-1.0</td>\n",
       "      <td>0.0000</td>\n",
       "      <td>150</td>\n",
       "    </tr>\n",
       "    <tr>\n",
       "      <th>4700</th>\n",
       "      <td>126028818</td>\n",
       "      <td>446433485</td>\n",
       "      <td>97</td>\n",
       "      <td>64952</td>\n",
       "      <td>1.04165</td>\n",
       "      <td>-2.0833</td>\n",
       "      <td>-2.0</td>\n",
       "      <td>0.0000</td>\n",
       "      <td>68</td>\n",
       "    </tr>\n",
       "    <tr>\n",
       "      <th>4870</th>\n",
       "      <td>125608948</td>\n",
       "      <td>445274062</td>\n",
       "      <td>216</td>\n",
       "      <td>65596</td>\n",
       "      <td>0.00000</td>\n",
       "      <td>0.0000</td>\n",
       "      <td>-1.0</td>\n",
       "      <td>0.0000</td>\n",
       "      <td>19</td>\n",
       "    </tr>\n",
       "  </tbody>\n",
       "</table>\n",
       "</div>"
      ],
      "text/plain": [
       "      TRANSACTION_ID  TRANSACTION_LINE_ID  STORE_ID    SKU  SALE_PRICE_EX_VAT  \\\n",
       "1017       126149042            446790067        15  36022            7.11700   \n",
       "1100       126104768            446708690        13  62955            1.57500   \n",
       "1175       125741803            445667330       212  65597            0.00000   \n",
       "3957       125608948            445270684       216  65597            0.00000   \n",
       "4700       126028818            446433485        97  64952            1.04165   \n",
       "4870       125608948            445274062       216  65596            0.00000   \n",
       "\n",
       "      REVENUE  QTY  DISCOUNT  TOTAL_TRANSACTION  \n",
       "1017  -2.8468 -0.4   -0.1498                 11  \n",
       "1100  -1.5750 -1.0    0.0000                 27  \n",
       "1175   0.0000 -1.0    0.0000                150  \n",
       "3957   0.0000 -1.0    0.0000                150  \n",
       "4700  -2.0833 -2.0    0.0000                 68  \n",
       "4870   0.0000 -1.0    0.0000                 19  "
      ]
     },
     "execution_count": 13,
     "metadata": {},
     "output_type": "execute_result"
    }
   ],
   "source": [
    "transactions_data[transactions_data[\"QTY\"]<0]"
   ]
  },
  {
   "cell_type": "markdown",
   "metadata": {},
   "source": [
    "### Effect of promotion on data"
   ]
  },
  {
   "cell_type": "markdown",
   "metadata": {},
   "source": [
    "Flag if there is a discount applied and calculate the value of the discount"
   ]
  },
  {
   "cell_type": "code",
   "execution_count": 296,
   "metadata": {},
   "outputs": [],
   "source": [
    "transactions_data_discount = transactions_data.copy()"
   ]
  },
  {
   "cell_type": "code",
   "execution_count": 297,
   "metadata": {},
   "outputs": [],
   "source": [
    "transactions_data_discount[\"DISCOUNT_APPLIED\"] = transactions_data_discount[\"DISCOUNT\"].map(lambda x : 0 if x==0 else 1)\n",
    "transactions_data_discount[\"DISCOUNT_APPLIED\"].value_counts()\n",
    "transactions_data_discount[\"DISCOUNT_VALUE\"] = 1-transactions_data_discount[\"SALE_PRICE_EX_VAT\"]/(transactions_data_discount[\"SALE_PRICE_EX_VAT\"] + transactions_data_discount[\"DISCOUNT\"])"
   ]
  },
  {
   "cell_type": "markdown",
   "metadata": {},
   "source": [
    "Flag SKUs with transactions with and without discount for further comparison"
   ]
  },
  {
   "cell_type": "code",
   "execution_count": 298,
   "metadata": {},
   "outputs": [
    {
     "data": {
      "text/plain": [
       "DISCOUNT_NO_DISCOUNT\n",
       "2    3372\n",
       "1    1517\n",
       "Name: count, dtype: int64"
      ]
     },
     "execution_count": 298,
     "metadata": {},
     "output_type": "execute_result"
    }
   ],
   "source": [
    "discount_df = transactions_data_discount.groupby([\"SKU\"]).agg(\n",
    "        DISCOUNT_NO_DISCOUNT = (\"DISCOUNT_APPLIED\", lambda x : x.nunique())\n",
    ").reset_index()\n",
    "\n",
    "transactions_data_discount = transactions_data_discount.merge(discount_df, on = \"SKU\", how = \"left\")\n",
    "transactions_data_discount[\"DISCOUNT_NO_DISCOUNT\"].value_counts()"
   ]
  },
  {
   "cell_type": "markdown",
   "metadata": {},
   "source": [
    "Measure impact of discount on sales volume"
   ]
  },
  {
   "cell_type": "code",
   "execution_count": 311,
   "metadata": {},
   "outputs": [],
   "source": [
    "def filter_skus_per_discount_value(df, threshold_discount):\n",
    "    sku_discount = df[df[\"DISCOUNT_VALUE\"]>=threshold_discount][\"SKU\"]\n",
    "    df = df[(df[\"SKU\"].isin(sku_discount))]\n",
    "    return df[(df[\"DISCOUNT_VALUE\"]>=threshold_discount) | (df[\"DISCOUNT_APPLIED\"]==0)]"
   ]
  },
  {
   "cell_type": "code",
   "execution_count": 316,
   "metadata": {},
   "outputs": [],
   "source": [
    "def measure_sales_volume_per_transaction(df):\n",
    "        qty_df = df.groupby([\"SKU\", \"DISCOUNT_APPLIED\"]).agg(\n",
    "                QTY_SOLD = (\"QTY\", \"sum\"),\n",
    "                NBRE_TRANSACTIONS = (\"QTY\", \"count\")\n",
    "        )\n",
    "        qty_df[\"RATIO_QTY_SOLD\"] = qty_df[\"QTY_SOLD\"]/qty_df[\"NBRE_TRANSACTIONS\"]\n",
    "        qty_df = qty_df.reset_index()\n",
    "        return qty_df[qty_df[\"DISCOUNT_APPLIED\"]==0][\"RATIO_QTY_SOLD\"].mean(), qty_df[qty_df[\"DISCOUNT_APPLIED\"]==1][\"RATIO_QTY_SOLD\"].mean()"
   ]
  },
  {
   "cell_type": "code",
   "execution_count": 337,
   "metadata": {},
   "outputs": [],
   "source": [
    "all_threshold_discount = []\n",
    "all_ratio_no_discount = []\n",
    "all_ratio_discount = []\n",
    "for threshold_discount in np.arange(0, 0.55, 0.05):\n",
    "    transactions_data_discount_impact = transactions_data_discount.copy()\n",
    "    transactions_data_discount_impact = transactions_data_discount_impact[transactions_data_discount_impact[\"DISCOUNT_NO_DISCOUNT\"]==2]\n",
    "    transactions_data_discount_filtered = filter_skus_per_discount_value(transactions_data_discount_impact, threshold_discount)\n",
    "    ratio_without_discount, ratio_with_discount = measure_sales_volume_per_transaction(transactions_data_discount_filtered)\n",
    "\n",
    "    all_threshold_discount.append(threshold_discount)\n",
    "    all_ratio_no_discount.append(ratio_without_discount)\n",
    "    all_ratio_discount.append(ratio_with_discount)"
   ]
  },
  {
   "cell_type": "code",
   "execution_count": 354,
   "metadata": {},
   "outputs": [],
   "source": [
    "df_impact_discount = pd.DataFrame({\"DISCOUNT_VALUE\" : all_threshold_discount, \"SALES_RATIO_NO_DISCOUNT\" : all_ratio_no_discount, \"SALES_RATIO_WITH_DISCOUNT\" : all_ratio_discount})"
   ]
  },
  {
   "cell_type": "code",
   "execution_count": 364,
   "metadata": {},
   "outputs": [],
   "source": [
    "df_impact_discount[\"RELATIVE_DIFFERENCE\"] = abs(df_impact_discount[\"SALES_RATIO_WITH_DISCOUNT\"] - df_impact_discount[\"SALES_RATIO_NO_DISCOUNT\"])/df_impact_discount[\"SALES_RATIO_WITH_DISCOUNT\"]"
   ]
  },
  {
   "cell_type": "code",
   "execution_count": 365,
   "metadata": {},
   "outputs": [
    {
     "data": {
      "image/png": "[encoded data removed]",
      "text/plain": [
       "<Figure size 800x600 with 1 Axes>"
      ]
     },
     "metadata": {},
     "output_type": "display_data"
    }
   ],
   "source": [
    "plt.figure(figsize = (8,6))\n",
    "plt.plot(df_impact_discount[\"DISCOUNT_VALUE\"], df_impact_discount[\"RELATIVE_DIFFERENCE\"], label = \"SALES RATIO NO DISCOUNT\")\n",
    "plt.xticks(df_impact_discount[\"DISCOUNT_VALUE\"])\n",
    "plt.yticks()\n",
    "plt.legend()\n",
    "plt.grid()\n",
    "plt.show()"
   ]
  },
  {
   "cell_type": "code",
   "execution_count": null,
   "metadata": {},
   "outputs": [
    {
     "data": {
      "image/png": "[encoded data removed]",
      "text/plain": [
       "<Figure size 800x600 with 1 Axes>"
      ]
     },
     "metadata": {},
     "output_type": "display_data"
    }
   ],
   "source": [
    "plt.figure(figsize = (8,6))\n",
    "plt.plot(df_impact_discount[\"DISCOUNT_VALUE\"], df_impact_discount[\"SALES_RATIO_NO_DISCOUNT\"], label = \"SALES RATIO NO DISCOUNT\")\n",
    "plt.plot(df_impact_discount[\"DISCOUNT_VALUE\"], df_impact_discount[\"SALES_RATIO_WITH_DISCOUNT\"], label = \"SALES RATIO WITH DISCOUNT\")\n",
    "plt.xticks(df_impact_discount[\"DISCOUNT_VALUE\"])\n",
    "plt.yticks()\n",
    "plt.legend()\n",
    "plt.grid()\n",
    "plt.show()"
   ]
  }
 ],
 "metadata": {
  "kernelspec": {
   "display_name": "env",
   "language": "python",
   "name": "python3"
  },
  "language_info": {
   "codemirror_mode": {
    "name": "ipython",
    "version": 3
   },
   "file_extension": ".py",
   "mimetype": "text/x-python",
   "name": "python",
   "nbconvert_exporter": "python",
   "pygments_lexer": "ipython3",
   "version": "3.10.12"
  }
 },
 "nbformat": 4,
 "nbformat_minor": 2
}
