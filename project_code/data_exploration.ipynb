{
 "cells": [
  {
   "cell_type": "code",
   "execution_count": 143,
   "metadata": {},
   "outputs": [],
   "source": [
    "import pandas as pd\n",
    "import numpy as np\n",
    "import os\n",
    "import pyvis\n",
    "import networkx as nx\n",
    "from matplotlib import pyplot as plt\n",
    "from itertools import product\n",
    "import plotly.graph_objects as go\n",
    "import plotly.express as px\n",
    "import seaborn as sns\n",
    "# pip install --upgrade nbformat\n",
    "# pip install -U kaleido"
   ]
  },
  {
   "cell_type": "code",
   "execution_count": 144,
   "metadata": {},
   "outputs": [],
   "source": [
    "pd.set_option('display.max_columns', None)"
   ]
  },
  {
   "cell_type": "code",
   "execution_count": 145,
   "metadata": {},
   "outputs": [],
   "source": [
    "CURRENT_DIRECTORY = os.getcwd()"
   ]
  },
  {
   "cell_type": "code",
   "execution_count": 146,
   "metadata": {},
   "outputs": [],
   "source": [
    "def import_data() -> tuple[pd.DataFrame, pd.DataFrame]:\n",
    "    \"\"\"\n",
    "    Return the SKUs and Transactions datasets.  \n",
    "    \"\"\"\n",
    "    skus_data = pd.read_csv(f\"{CURRENT_DIRECTORY}/data/skus.csv\", delimiter = \",\")\n",
    "    transactions_data = pd.read_csv(f\"{CURRENT_DIRECTORY}/data/transactions.csv\", delimiter = \",\")\n",
    "    return skus_data, transactions_data\n",
    "\n",
    "skus_data, transactions_data = import_data()"
   ]
  },
  {
   "cell_type": "code",
   "execution_count": null,
   "metadata": {},
   "outputs": [],
   "source": [
    "def merge_skus_transactions(df_skus : pd.DataFrame, df_transactions : pd.DataFrame) -> pd.DataFrame:\n",
    "    \"\"\"\n",
    "    Merge SKUs and Transactions datasets.  \n",
    "    \"\"\"\n",
    "    return df_transactions.merge(df_skus, on = \"SKU\", how = \"left\")\n",
    "transactions_data = merge_skus_transactions(skus_data, transactions_data)"
   ]
  },
  {
   "cell_type": "markdown",
   "metadata": {},
   "source": [
    "- **REVENUE = SALE_PRICE_EX_VAT * QTY**\n",
    "- **SALE_PRICE_EX_VAT = NORMAL PRICE - DISCOUNT**"
   ]
  },
  {
   "cell_type": "code",
   "execution_count": 109,
   "metadata": {},
   "outputs": [
    {
     "data": {
      "text/plain": [
       "Index(['SKU', 'ITEM_DESCRIPTION', 'DEPARTMENT', 'CATEGORY', 'SUBCATEGORY1',\n",
       "       'SUBCATEGORY2', 'BRAND', 'ITEM_WEIGHT', 'ITEM_UNIT_OF_MEASURE'],\n",
       "      dtype='object')"
      ]
     },
     "execution_count": 109,
     "metadata": {},
     "output_type": "execute_result"
    }
   ],
   "source": [
    "skus_data.columns"
   ]
  },
  {
   "cell_type": "markdown",
   "metadata": {},
   "source": [
    "### Departments and categories analysis"
   ]
  },
  {
   "cell_type": "code",
   "execution_count": null,
   "metadata": {},
   "outputs": [],
   "source": [
    "def plot_hierarchical_categories(df : pd.DataFrame) -> None:\n",
    "    \"\"\"\n",
    "    Save plot of the hierarchy within the SKUs data. Departments -> Categories -> etc.\n",
    "    \"\"\"\n",
    "    hierarchical_categories = df[[\"DEPARTMENT\", \"CATEGORY\"]].drop_duplicates()\n",
    "    fig = px.treemap(hierarchical_categories, path=[\"DEPARTMENT\", \"CATEGORY\"])\n",
    "    fig.write_image(f\"{CURRENT_DIRECTORY}/data/department_category_tree.png\")\n",
    "plot_hierarchical_categories(skus_data)"
   ]
  },
  {
   "cell_type": "markdown",
   "metadata": {},
   "source": [
    "### Other SKUs in transactions that are not part of the list of 500 best-selling items"
   ]
  },
  {
   "cell_type": "code",
   "execution_count": 113,
   "metadata": {},
   "outputs": [
    {
     "data": {
      "text/plain": [
       "set()"
      ]
     },
     "execution_count": 113,
     "metadata": {},
     "output_type": "execute_result"
    }
   ],
   "source": [
    "result = {x for x in transactions_data[\"SKU\"].unique() if x not in skus_data[\"SKU\"].unique()}\n",
    "result"
   ]
  },
  {
   "cell_type": "markdown",
   "metadata": {},
   "source": [
    "# Missing data"
   ]
  },
  {
   "cell_type": "code",
   "execution_count": 114,
   "metadata": {},
   "outputs": [
    {
     "data": {
      "text/plain": [
       "TRANSACTION_ID          False\n",
       "TRANSACTION_LINE_ID     False\n",
       "STORE_ID                False\n",
       "SKU                     False\n",
       "SALE_PRICE_EX_VAT       False\n",
       "REVENUE                 False\n",
       "QTY                     False\n",
       "DISCOUNT                False\n",
       "ITEM_DESCRIPTION        False\n",
       "DEPARTMENT              False\n",
       "CATEGORY                False\n",
       "SUBCATEGORY1            False\n",
       "SUBCATEGORY2            False\n",
       "BRAND                   False\n",
       "ITEM_WEIGHT              True\n",
       "ITEM_UNIT_OF_MEASURE     True\n",
       "dtype: bool"
      ]
     },
     "execution_count": 114,
     "metadata": {},
     "output_type": "execute_result"
    }
   ],
   "source": [
    "transactions_data.isna().any()"
   ]
  },
  {
   "cell_type": "markdown",
   "metadata": {},
   "source": [
    "### Missing SKUs in transactions"
   ]
  },
  {
   "cell_type": "code",
   "execution_count": null,
   "metadata": {},
   "outputs": [
    {
     "data": {
      "text/html": [
       "<div>\n",
       "<style scoped>\n",
       "    .dataframe tbody tr th:only-of-type {\n",
       "        vertical-align: middle;\n",
       "    }\n",
       "\n",
       "    .dataframe tbody tr th {\n",
       "        vertical-align: top;\n",
       "    }\n",
       "\n",
       "    .dataframe thead th {\n",
       "        text-align: right;\n",
       "    }\n",
       "</style>\n",
       "<table border=\"1\" class=\"dataframe\">\n",
       "  <thead>\n",
       "    <tr style=\"text-align: right;\">\n",
       "      <th></th>\n",
       "      <th>SKU</th>\n",
       "      <th>ITEM_DESCRIPTION</th>\n",
       "      <th>DEPARTMENT</th>\n",
       "      <th>CATEGORY</th>\n",
       "      <th>SUBCATEGORY1</th>\n",
       "      <th>SUBCATEGORY2</th>\n",
       "      <th>BRAND</th>\n",
       "      <th>ITEM_WEIGHT</th>\n",
       "      <th>ITEM_UNIT_OF_MEASURE</th>\n",
       "    </tr>\n",
       "  </thead>\n",
       "  <tbody>\n",
       "    <tr>\n",
       "      <th>46</th>\n",
       "      <td>65813</td>\n",
       "      <td>Sizzlers Bacon Treat Maxi</td>\n",
       "      <td>Dog</td>\n",
       "      <td>Treat</td>\n",
       "      <td>Other</td>\n",
       "      <td>Other</td>\n",
       "      <td>Bakers</td>\n",
       "      <td>0.001</td>\n",
       "      <td>KG</td>\n",
       "    </tr>\n",
       "    <tr>\n",
       "      <th>47</th>\n",
       "      <td>65815</td>\n",
       "      <td>Bacon/Cheese Whirlers Maxi</td>\n",
       "      <td>Dog</td>\n",
       "      <td>Treat</td>\n",
       "      <td>Other</td>\n",
       "      <td>Other</td>\n",
       "      <td>Bakers</td>\n",
       "      <td>0.001</td>\n",
       "      <td>KG</td>\n",
       "    </tr>\n",
       "    <tr>\n",
       "      <th>123</th>\n",
       "      <td>51849</td>\n",
       "      <td>Miss Purfect Strip Teasers</td>\n",
       "      <td>Cat</td>\n",
       "      <td>Treat</td>\n",
       "      <td>Other</td>\n",
       "      <td>Na</td>\n",
       "      <td>Miss Purfect</td>\n",
       "      <td>0.050</td>\n",
       "      <td>KG</td>\n",
       "    </tr>\n",
       "    <tr>\n",
       "      <th>134</th>\n",
       "      <td>54646</td>\n",
       "      <td>Beef Meat Only Dinner</td>\n",
       "      <td>Dog</td>\n",
       "      <td>Food</td>\n",
       "      <td>Frozen</td>\n",
       "      <td>Adult</td>\n",
       "      <td>Durham Animal Feeds</td>\n",
       "      <td>0.500</td>\n",
       "      <td>KG</td>\n",
       "    </tr>\n",
       "    <tr>\n",
       "      <th>189</th>\n",
       "      <td>30365</td>\n",
       "      <td>Delivery</td>\n",
       "      <td>Misc.</td>\n",
       "      <td>Na</td>\n",
       "      <td>Na</td>\n",
       "      <td>Na</td>\n",
       "      <td>NaN</td>\n",
       "      <td>NaN</td>\n",
       "      <td>NaN</td>\n",
       "    </tr>\n",
       "    <tr>\n",
       "      <th>367</th>\n",
       "      <td>50806</td>\n",
       "      <td>Naturals Gig Mv Chkn</td>\n",
       "      <td>Cat</td>\n",
       "      <td>Food</td>\n",
       "      <td>S.S.Wet</td>\n",
       "      <td>Adult</td>\n",
       "      <td>Gourmet</td>\n",
       "      <td>0.810</td>\n",
       "      <td>KG</td>\n",
       "    </tr>\n",
       "    <tr>\n",
       "      <th>498</th>\n",
       "      <td>65495</td>\n",
       "      <td>Chicken Mince</td>\n",
       "      <td>Dog</td>\n",
       "      <td>Food</td>\n",
       "      <td>Frozen</td>\n",
       "      <td>Adult</td>\n",
       "      <td>Raw And Simple</td>\n",
       "      <td>1.500</td>\n",
       "      <td>KG</td>\n",
       "    </tr>\n",
       "  </tbody>\n",
       "</table>\n",
       "</div>"
      ],
      "text/plain": [
       "       SKU            ITEM_DESCRIPTION DEPARTMENT CATEGORY SUBCATEGORY1  \\\n",
       "46   65813   Sizzlers Bacon Treat Maxi        Dog    Treat        Other   \n",
       "47   65815  Bacon/Cheese Whirlers Maxi        Dog    Treat        Other   \n",
       "123  51849  Miss Purfect Strip Teasers        Cat    Treat        Other   \n",
       "134  54646       Beef Meat Only Dinner        Dog     Food       Frozen   \n",
       "189  30365                    Delivery      Misc.       Na           Na   \n",
       "367  50806        Naturals Gig Mv Chkn        Cat     Food      S.S.Wet   \n",
       "498  65495               Chicken Mince        Dog     Food       Frozen   \n",
       "\n",
       "    SUBCATEGORY2                BRAND  ITEM_WEIGHT ITEM_UNIT_OF_MEASURE  \n",
       "46         Other               Bakers        0.001                   KG  \n",
       "47         Other               Bakers        0.001                   KG  \n",
       "123           Na         Miss Purfect        0.050                   KG  \n",
       "134        Adult  Durham Animal Feeds        0.500                   KG  \n",
       "189           Na                  NaN          NaN                  NaN  \n",
       "367        Adult              Gourmet        0.810                   KG  \n",
       "498        Adult       Raw And Simple        1.500                   KG  "
      ]
     },
     "execution_count": 152,
     "metadata": {},
     "output_type": "execute_result"
    }
   ],
   "source": [
    "def find_missing_SKU_transactions(df_skus : pd.DataFrame, df_transactions : pd.DataFrame) -> pd.DataFrame:\n",
    "    \"\"\"\n",
    "    Return missing SKUs in the transactions dataset. \n",
    "    \"\"\"\n",
    "    list_skus = {x for x in df_skus[\"SKU\"].unique() if x not in df_transactions[\"SKU\"].unique()}\n",
    "    return df_skus[df_skus[\"SKU\"].isin(list_skus)]\n",
    "\n",
    "find_missing_SKU_transactions(skus_data, transactions_data)"
   ]
  },
  {
   "cell_type": "markdown",
   "metadata": {},
   "source": [
    "### Count number of unique items sold together per transaction\n",
    "A purchase will be a unique transaction with possibly multiple items sold at the same time (i.e.: same unique transacation ID).\n",
    "We want to know the distribution of number of items sold per purchase."
   ]
  },
  {
   "cell_type": "code",
   "execution_count": 156,
   "metadata": {},
   "outputs": [
    {
     "name": "stdout",
     "output_type": "stream",
     "text": [
      "54.0\n"
     ]
    }
   ],
   "source": [
    "def count_items_sold_transaction(df : pd.DataFrame) -> pd.DataFrame:\n",
    "    \"\"\"\n",
    "    Count the number of items sold per basket for each transaction. \n",
    "    \"\"\"\n",
    "    return df.groupby([\"TRANSACTION_ID\"]).agg({\n",
    "        \"SKU\" : lambda x : x.nunique()\n",
    "    }).reset_index().value_counts(\"SKU\")\n",
    "\n",
    "sku_transactions_data = count_items_sold_transaction(transactions_data)\n",
    "\n",
    "def nbre_transactions_mutliple_items(df : pd.DataFrame) -> float:\n",
    "    \"\"\"\n",
    "    Return the ...\n",
    "    \"\"\"\n",
    "    return round(1-df.loc[1]/df.sum(), 2)*100\n",
    "\n",
    "print(nbre_transactions_mutliple_items(sku_transactions_data))\n",
    "\n",
    "def plot_distribution_items_transaction(df : pd.DataFrame) -> None:\n",
    "    \"\"\"\n",
    "    Save the distribution of numbe of items in a basket. \n",
    "    \"\"\"\n",
    "    plt.figure(figsize = (8,6))\n",
    "    plt.bar(df.index, df.values,color='skyblue', edgecolor='black', alpha=0.8)\n",
    "    plt.title(\"Distribution of the number of items in a basket\", fontsize=12, fontweight='bold')\n",
    "    plt.xlabel(\"Number of items per basket\", fontsize=12)\n",
    "    plt.ylabel(\"Number of basket with X items\", fontsize=12)\n",
    "    plt.grid(axis='y', linestyle='--', alpha=0.6)\n",
    "    plt.savefig(f\"{CURRENT_DIRECTORY}/data/nbre_items_per_transaction.png\")\n",
    "    plt.close()\n",
    "\n",
    "plot_distribution_items_transaction(sku_transactions_data)"
   ]
  },
  {
   "cell_type": "markdown",
   "metadata": {},
   "source": [
    "### Number of times an item has been bought"
   ]
  },
  {
   "cell_type": "code",
   "execution_count": 172,
   "metadata": {},
   "outputs": [
    {
     "data": {
      "text/plain": [
       "np.float64(9.91683569979716)"
      ]
     },
     "execution_count": 172,
     "metadata": {},
     "output_type": "execute_result"
    }
   ],
   "source": [
    "def calculate_items_bought(df : pd.DataFrame) -> pd.DataFrame:\n",
    "    \"\"\"\n",
    "    Calculate the number of times an item appears in a basket and sum the total revenue generated. \n",
    "    \"\"\"\n",
    "    return df.groupby([\"SKU\"]).agg(\n",
    "        SKU_TOTAL_TRANSACTION = (\"TRANSACTION_ID\", \"count\"),\n",
    "        SKU_TOTAL_REVENUE = (\"REVENUE\", \"sum\")\n",
    ").reset_index()\n",
    "\n",
    "df_item_purchases = calculate_items_bought(transactions_data)\n",
    "\n",
    "df_item_purchases[\"SKU_TOTAL_TRANSACTION\"].mean()"
   ]
  },
  {
   "cell_type": "code",
   "execution_count": null,
   "metadata": {},
   "outputs": [],
   "source": [
    "def add_transaction_details_skus(df_skus : pd.DataFrame, df_baskets : pd.DataFrame) -> pd.DataFrame:\n",
    "    \"\"\"\n",
    "    Add the Total Revenue and Total Number of transactions for every item.\n",
    "    \"\"\"\n",
    "    return df_skus.merge(df_baskets, on = \"SKU\", how = \"left\")\n",
    "\n",
    "skus_data = add_transaction_details_skus(skus_data, df_item_purchases)"
   ]
  },
  {
   "cell_type": "markdown",
   "metadata": {},
   "source": [
    "# Low-frequence items analysis\n",
    "What percentage of revenue do we lose by dropping low-frequency items?"
   ]
  },
  {
   "cell_type": "markdown",
   "metadata": {},
   "source": [
    "**REVENUE = SALE_PRICE_EX_VAT * QTY**\n"
   ]
  },
  {
   "cell_type": "code",
   "execution_count": 178,
   "metadata": {},
   "outputs": [
    {
     "data": {
      "text/plain": [
       "np.float64(0.7951121178296452)"
      ]
     },
     "execution_count": 178,
     "metadata": {},
     "output_type": "execute_result"
    }
   ],
   "source": [
    "def share_revenue_items_sold(df : pd.DataFrame, threshold_transactions : int) -> float:\n",
    "    \"\"\"\n",
    "    Return percentage of revenue one keeps after dropping low-frequency items. \n",
    "    \"\"\"\n",
    "    return df[df[\"SKU_TOTAL_TRANSACTION\"] >= threshold_transactions][\"SKU_TOTAL_REVENUE\"].sum()/df[\"SKU_TOTAL_REVENUE\"].sum()\n",
    "share_revenue_items_sold(skus_data, 6)"
   ]
  },
  {
   "cell_type": "markdown",
   "metadata": {},
   "source": [
    "### Check if a transaction ID is unique or unique per store"
   ]
  },
  {
   "cell_type": "code",
   "execution_count": 180,
   "metadata": {},
   "outputs": [
    {
     "data": {
      "text/plain": [
       "1"
      ]
     },
     "execution_count": 180,
     "metadata": {},
     "output_type": "execute_result"
    }
   ],
   "source": [
    "transactions_data.groupby(\"TRANSACTION_ID\").agg({\n",
    "    \"STORE_ID\" : lambda x : x.nunique()\n",
    "    }\n",
    ")[\"STORE_ID\"].nunique()"
   ]
  },
  {
   "cell_type": "markdown",
   "metadata": {},
   "source": [
    "Transaction ID is indeed unique across all the stores. It is not a unique Transaction ID per store."
   ]
  },
  {
   "cell_type": "markdown",
   "metadata": {},
   "source": [
    "### There are negative quantities. Is that returned items? We can drop them as it is only a few transactions.\n"
   ]
  },
  {
   "cell_type": "code",
   "execution_count": 181,
   "metadata": {},
   "outputs": [],
   "source": [
    "def remove_anomalies(df : pd.DataFrame) -> pd.DataFrame:\n",
    "    \"\"\"\n",
    "    Remove negative Quantity and Revenue for data consistency.\n",
    "    \"\"\"\n",
    "    df = df[df[\"QTY\"]>0]\n",
    "    df = df[df[\"REVENUE\"]> 0]\n",
    "    return df\n",
    "\n",
    "transactions_data = remove_anomalies(transactions_data)"
   ]
  },
  {
   "cell_type": "markdown",
   "metadata": {},
   "source": [
    "### Effect of promotion on data"
   ]
  },
  {
   "cell_type": "markdown",
   "metadata": {},
   "source": [
    "Flag if there is a discount applied and calculate the value of the discount"
   ]
  },
  {
   "cell_type": "code",
   "execution_count": 279,
   "metadata": {},
   "outputs": [],
   "source": [
    "transactions_data_discount = transactions_data.copy()"
   ]
  },
  {
   "cell_type": "code",
   "execution_count": 280,
   "metadata": {},
   "outputs": [
    {
     "data": {
      "text/plain": [
       "DISCOUNT_APPLIED\n",
       "1    2299\n",
       "0    2008\n",
       "Name: count, dtype: int64"
      ]
     },
     "execution_count": 280,
     "metadata": {},
     "output_type": "execute_result"
    }
   ],
   "source": [
    "def discount_flag_and_calculation(df : pd.DataFrame) -> pd.DataFrame:\n",
    "    \"\"\"\n",
    "    Flag if a discount is applied on the item purchased for a transaction.\n",
    "    Calculate the percentage of discount applied. \n",
    "    \"\"\"\n",
    "    ## Flag if a discount is applied to the sale\n",
    "    df[\"DISCOUNT_APPLIED\"] = df[\"DISCOUNT\"].map(lambda x : 0 if x==0 else 1)\n",
    "\n",
    "    ## Calculate the percentage of the discount applied\n",
    "    df[\"DISCOUNT_VALUE\"] = 1-df[\"SALE_PRICE_EX_VAT\"]/(df[\"SALE_PRICE_EX_VAT\"] + transactions_data_discount[\"DISCOUNT\"])\n",
    "    return df\n",
    "transactions_data_discount = discount_flag_and_calculation(transactions_data_discount)\n",
    "\n",
    "transactions_data_discount[\"DISCOUNT_APPLIED\"].value_counts()"
   ]
  },
  {
   "cell_type": "markdown",
   "metadata": {},
   "source": [
    "Flag SKUs with transactions with and without discount for further comparison"
   ]
  },
  {
   "cell_type": "code",
   "execution_count": 281,
   "metadata": {},
   "outputs": [
    {
     "data": {
      "text/plain": [
       "DISCOUNT_NO_DISCOUNT\n",
       "2    3163\n",
       "1    1144\n",
       "Name: count, dtype: int64"
      ]
     },
     "execution_count": 281,
     "metadata": {},
     "output_type": "execute_result"
    }
   ],
   "source": [
    "def flag_discounted_SKU(df : pd.DataFrame) -> pd.DataFrame:\n",
    "        \"\"\"\n",
    "        Return SKUs which got sold discounted and not discounted over the past 3 months.\n",
    "        \"\"\"\n",
    "        discount_df = df.groupby([\"SKU\"]).agg(\n",
    "                DISCOUNT_NO_DISCOUNT = (\"DISCOUNT_APPLIED\", lambda x : x.nunique())\n",
    "        ).reset_index()\n",
    "\n",
    "        return df.merge(discount_df, on = \"SKU\", how = \"left\")\n",
    "\n",
    "transactions_data_discount = flag_discounted_SKU(transactions_data_discount)\n",
    "transactions_data_discount[\"DISCOUNT_NO_DISCOUNT\"].value_counts()"
   ]
  },
  {
   "cell_type": "markdown",
   "metadata": {},
   "source": [
    "Measure impact of discount on sales volume"
   ]
  },
  {
   "cell_type": "code",
   "execution_count": 327,
   "metadata": {},
   "outputs": [],
   "source": [
    "def filter_skus_per_discount_value(df : pd.DataFrame, threshold_discount_min : int) -> pd.DataFrame:\n",
    "    \"\"\"\n",
    "    Keep transactions with a threshold_discount_min discount < threshold_discount_max and transactions with no discount.\n",
    "    It will be used for further analysis to compare the effect of the discount percentage.\n",
    "    \"\"\"\n",
    "\n",
    "    threshold_discount_max = threshold_discount_min+0.05\n",
    "    ## Find SKUs that have been sold with at normal price and discounted price lower than the threshold\n",
    "    sku_discount = df[df[\"DISCOUNT_VALUE\"]>threshold_discount_min][\"SKU\"]\n",
    "\n",
    "    ## Only keep the transaction for those SKUs\n",
    "    df = df[(df[\"SKU\"].isin(sku_discount))]\n",
    "\n",
    "    ## Return only the transactions with a discount < threshold or no discount\n",
    "    return df[(df[\"DISCOUNT_VALUE\"].between(threshold_discount_min, threshold_discount_max)) | (df[\"DISCOUNT_APPLIED\"]==0)]"
   ]
  },
  {
   "cell_type": "code",
   "execution_count": 328,
   "metadata": {},
   "outputs": [],
   "source": [
    "def measure_sales_volume_per_transaction(df : pd.DataFrame) -> pd.DataFrame:\n",
    "        \"\"\"\n",
    "        1. Find the volume of quantity sold with and without discount.\n",
    "        2. Calculate the ratio of quantity sold per transaction.\n",
    "        3. Return the average of the calculated ratio for transaction with and without discount for comparison.\n",
    "        \"\"\"\n",
    "        ## Find the volume of quantity sold with and without discount\n",
    "        qty_df = df.groupby([\"SKU\", \"DISCOUNT_APPLIED\"]).agg(\n",
    "                QTY_SOLD = (\"QTY\", \"sum\"),\n",
    "                NBRE_TRANSACTIONS = (\"QTY\", \"count\")\n",
    "        )\n",
    "\n",
    "        ## Calculate the ratio of quantity sold per transaction\n",
    "        qty_df[\"RATIO_QTY_SOLD\"] = qty_df[\"QTY_SOLD\"]/qty_df[\"NBRE_TRANSACTIONS\"]\n",
    "        qty_df = qty_df.reset_index()\n",
    "\n",
    "        ## Return the average of the calculated ratio for transaction with and without discount\n",
    "        return qty_df[qty_df[\"DISCOUNT_APPLIED\"]==0][\"RATIO_QTY_SOLD\"].mean(), qty_df[qty_df[\"DISCOUNT_APPLIED\"]==1][\"RATIO_QTY_SOLD\"].mean()"
   ]
  },
  {
   "cell_type": "code",
   "execution_count": 329,
   "metadata": {},
   "outputs": [],
   "source": [
    "def measure_impact_discount(df : pd.DataFrame, threshold_discount_max : float) -> list[list, list, list]:\n",
    "    \"\"\"\n",
    "    Return the average ratio quantity/transactions for items sold without discount\n",
    "    and items sold after applying a promotion lower than a threshold. \n",
    "    \"\"\"\n",
    "    all_threshold_discount = []\n",
    "    all_ratio_no_discount = []\n",
    "    all_ratio_discount = []\n",
    "    \n",
    "    ## Measure impact of discount for a range of thresholds\n",
    "    for threshold_discount in np.arange(0, threshold_discount_max, 0.05):\n",
    "        df1 = df.copy()\n",
    "        df1 = df1[df1[\"DISCOUNT_NO_DISCOUNT\"]==2]\n",
    "        transactions_data_discount_filtered = filter_skus_per_discount_value(df1, threshold_discount)\n",
    "        ratio_without_discount, ratio_with_discount = measure_sales_volume_per_transaction(transactions_data_discount_filtered)\n",
    "\n",
    "        all_threshold_discount.append(threshold_discount)\n",
    "        all_ratio_no_discount.append(ratio_without_discount)\n",
    "        all_ratio_discount.append(ratio_with_discount)\n",
    "    return all_threshold_discount, all_ratio_no_discount, all_ratio_discount\n",
    "\n",
    "all_threshold_discount, all_ratio_no_discount, all_ratio_discount = measure_impact_discount(transactions_data_discount, 0.60)"
   ]
  },
  {
   "cell_type": "code",
   "execution_count": 330,
   "metadata": {},
   "outputs": [],
   "source": [
    "df_impact_discount = pd.DataFrame({\"DISCOUNT_VALUE\" : all_threshold_discount, \"SALES_RATIO_NO_DISCOUNT\" : all_ratio_no_discount, \"SALES_RATIO_WITH_DISCOUNT\" : all_ratio_discount})\n",
    "df_impact_discount[\"RELATIVE_DIFFERENCE\"] = abs(df_impact_discount[\"SALES_RATIO_WITH_DISCOUNT\"] - df_impact_discount[\"SALES_RATIO_NO_DISCOUNT\"])/df_impact_discount[\"SALES_RATIO_WITH_DISCOUNT\"]"
   ]
  },
  {
   "cell_type": "code",
   "execution_count": 334,
   "metadata": {},
   "outputs": [],
   "source": [
    "# plt.figure(figsize = (8,6))\n",
    "# plt.plot(df_impact_discount[\"DISCOUNT_VALUE\"], df_impact_discount[\"RELATIVE_DIFFERENCE\"], label = \"SALES RATIO NO DISCOUNT\")\n",
    "# plt.xticks(df_impact_discount[\"DISCOUNT_VALUE\"])\n",
    "# plt.yticks()\n",
    "# plt.legend()\n",
    "# plt.grid()\n",
    "# plt.show()"
   ]
  },
  {
   "cell_type": "code",
   "execution_count": 335,
   "metadata": {},
   "outputs": [
    {
     "data": {
      "image/png": "[encoded data removed]",
      "text/plain": [
       "<Figure size 800x600 with 1 Axes>"
      ]
     },
     "metadata": {},
     "output_type": "display_data"
    }
   ],
   "source": [
    "plt.figure(figsize = (8,6))\n",
    "plt.plot(df_impact_discount[\"DISCOUNT_VALUE\"], df_impact_discount[\"SALES_RATIO_NO_DISCOUNT\"], label = \"QUANTITY SOLD PER TRANSACTION - NO DISCOUNT\")\n",
    "plt.plot(df_impact_discount[\"DISCOUNT_VALUE\"], df_impact_discount[\"SALES_RATIO_WITH_DISCOUNT\"], label = \"QUANTITY SOLD PER TRANSACTION - WITH DISCOUNT\")\n",
    "plt.xticks(df_impact_discount[\"DISCOUNT_VALUE\"])\n",
    "plt.yticks()\n",
    "plt.legend()\n",
    "plt.grid()\n",
    "plt.show()"
   ]
  }
 ],
 "metadata": {
  "kernelspec": {
   "display_name": "env",
   "language": "python",
   "name": "python3"
  },
  "language_info": {
   "codemirror_mode": {
    "name": "ipython",
    "version": 3
   },
   "file_extension": ".py",
   "mimetype": "text/x-python",
   "name": "python",
   "nbconvert_exporter": "python",
   "pygments_lexer": "ipython3",
   "version": "3.10.12"
  }
 },
 "nbformat": 4,
 "nbformat_minor": 2
}
