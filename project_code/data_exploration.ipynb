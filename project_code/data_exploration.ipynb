{
 "cells": [
  {
   "cell_type": "code",
   "execution_count": 228,
   "metadata": {},
   "outputs": [],
   "source": [
    "import pandas as pd\n",
    "import numpy as np\n",
    "import os\n",
    "import pyvis\n",
    "import networkx as nx\n",
    "from matplotlib import pyplot as plt\n",
    "from itertools import product"
   ]
  },
  {
   "cell_type": "code",
   "execution_count": 229,
   "metadata": {},
   "outputs": [],
   "source": [
    "current_directory = os.getcwd()"
   ]
  },
  {
   "cell_type": "code",
   "execution_count": 230,
   "metadata": {},
   "outputs": [],
   "source": [
    "skus_data = pd.read_csv(f\"{current_directory}/data/skus.csv\", delimiter = \",\")\n",
    "transactions_data = pd.read_csv(f\"{current_directory}/data/transactions.csv\", delimiter = \",\")"
   ]
  },
  {
   "cell_type": "markdown",
   "metadata": {},
   "source": [
    "**REVENUE = SALE_PRICE_EX_VAT * QTY**"
   ]
  },
  {
   "cell_type": "code",
   "execution_count": 231,
   "metadata": {},
   "outputs": [
    {
     "data": {
      "text/plain": [
       "Index(['SKU', 'ITEM_DESCRIPTION', 'DEPARTMENT', 'CATEGORY', 'SUBCATEGORY1',\n",
       "       'SUBCATEGORY2', 'BRAND', 'ITEM_WEIGHT', 'ITEM_UNIT_OF_MEASURE'],\n",
       "      dtype='object')"
      ]
     },
     "execution_count": 231,
     "metadata": {},
     "output_type": "execute_result"
    }
   ],
   "source": [
    "skus_data.columns"
   ]
  },
  {
   "cell_type": "markdown",
   "metadata": {},
   "source": [
    "### Other SKUs in transactions that are not part of the list of 500 best-selling items"
   ]
  },
  {
   "cell_type": "code",
   "execution_count": 232,
   "metadata": {},
   "outputs": [
    {
     "data": {
      "text/plain": [
       "set()"
      ]
     },
     "execution_count": 232,
     "metadata": {},
     "output_type": "execute_result"
    }
   ],
   "source": [
    "result = {x for x in transactions_data[\"SKU\"].unique() if x not in skus_data[\"SKU\"].unique()}\n",
    "result"
   ]
  },
  {
   "cell_type": "markdown",
   "metadata": {},
   "source": [
    "### Missing SKUs in transactions"
   ]
  },
  {
   "cell_type": "code",
   "execution_count": 233,
   "metadata": {},
   "outputs": [
    {
     "data": {
      "text/html": [
       "<div>\n",
       "<style scoped>\n",
       "    .dataframe tbody tr th:only-of-type {\n",
       "        vertical-align: middle;\n",
       "    }\n",
       "\n",
       "    .dataframe tbody tr th {\n",
       "        vertical-align: top;\n",
       "    }\n",
       "\n",
       "    .dataframe thead th {\n",
       "        text-align: right;\n",
       "    }\n",
       "</style>\n",
       "<table border=\"1\" class=\"dataframe\">\n",
       "  <thead>\n",
       "    <tr style=\"text-align: right;\">\n",
       "      <th></th>\n",
       "      <th>SKU</th>\n",
       "      <th>ITEM_DESCRIPTION</th>\n",
       "      <th>DEPARTMENT</th>\n",
       "      <th>CATEGORY</th>\n",
       "      <th>SUBCATEGORY1</th>\n",
       "      <th>SUBCATEGORY2</th>\n",
       "      <th>BRAND</th>\n",
       "      <th>ITEM_WEIGHT</th>\n",
       "      <th>ITEM_UNIT_OF_MEASURE</th>\n",
       "    </tr>\n",
       "  </thead>\n",
       "  <tbody>\n",
       "    <tr>\n",
       "      <th>46</th>\n",
       "      <td>65813</td>\n",
       "      <td>Sizzlers Bacon Treat Maxi</td>\n",
       "      <td>Dog</td>\n",
       "      <td>Treat</td>\n",
       "      <td>Other</td>\n",
       "      <td>Other</td>\n",
       "      <td>Bakers</td>\n",
       "      <td>0.001</td>\n",
       "      <td>KG</td>\n",
       "    </tr>\n",
       "    <tr>\n",
       "      <th>47</th>\n",
       "      <td>65815</td>\n",
       "      <td>Bacon/Cheese Whirlers Maxi</td>\n",
       "      <td>Dog</td>\n",
       "      <td>Treat</td>\n",
       "      <td>Other</td>\n",
       "      <td>Other</td>\n",
       "      <td>Bakers</td>\n",
       "      <td>0.001</td>\n",
       "      <td>KG</td>\n",
       "    </tr>\n",
       "    <tr>\n",
       "      <th>123</th>\n",
       "      <td>51849</td>\n",
       "      <td>Miss Purfect Strip Teasers</td>\n",
       "      <td>Cat</td>\n",
       "      <td>Treat</td>\n",
       "      <td>Other</td>\n",
       "      <td>Na</td>\n",
       "      <td>Miss Purfect</td>\n",
       "      <td>0.050</td>\n",
       "      <td>KG</td>\n",
       "    </tr>\n",
       "    <tr>\n",
       "      <th>134</th>\n",
       "      <td>54646</td>\n",
       "      <td>Beef Meat Only Dinner</td>\n",
       "      <td>Dog</td>\n",
       "      <td>Food</td>\n",
       "      <td>Frozen</td>\n",
       "      <td>Adult</td>\n",
       "      <td>Durham Animal Feeds</td>\n",
       "      <td>0.500</td>\n",
       "      <td>KG</td>\n",
       "    </tr>\n",
       "    <tr>\n",
       "      <th>189</th>\n",
       "      <td>30365</td>\n",
       "      <td>Delivery</td>\n",
       "      <td>Misc.</td>\n",
       "      <td>Na</td>\n",
       "      <td>Na</td>\n",
       "      <td>Na</td>\n",
       "      <td>NaN</td>\n",
       "      <td>NaN</td>\n",
       "      <td>NaN</td>\n",
       "    </tr>\n",
       "    <tr>\n",
       "      <th>367</th>\n",
       "      <td>50806</td>\n",
       "      <td>Naturals Gig Mv Chkn</td>\n",
       "      <td>Cat</td>\n",
       "      <td>Food</td>\n",
       "      <td>S.S.Wet</td>\n",
       "      <td>Adult</td>\n",
       "      <td>Gourmet</td>\n",
       "      <td>0.810</td>\n",
       "      <td>KG</td>\n",
       "    </tr>\n",
       "    <tr>\n",
       "      <th>498</th>\n",
       "      <td>65495</td>\n",
       "      <td>Chicken Mince</td>\n",
       "      <td>Dog</td>\n",
       "      <td>Food</td>\n",
       "      <td>Frozen</td>\n",
       "      <td>Adult</td>\n",
       "      <td>Raw And Simple</td>\n",
       "      <td>1.500</td>\n",
       "      <td>KG</td>\n",
       "    </tr>\n",
       "  </tbody>\n",
       "</table>\n",
       "</div>"
      ],
      "text/plain": [
       "       SKU            ITEM_DESCRIPTION DEPARTMENT CATEGORY SUBCATEGORY1  \\\n",
       "46   65813   Sizzlers Bacon Treat Maxi        Dog    Treat        Other   \n",
       "47   65815  Bacon/Cheese Whirlers Maxi        Dog    Treat        Other   \n",
       "123  51849  Miss Purfect Strip Teasers        Cat    Treat        Other   \n",
       "134  54646       Beef Meat Only Dinner        Dog     Food       Frozen   \n",
       "189  30365                    Delivery      Misc.       Na           Na   \n",
       "367  50806        Naturals Gig Mv Chkn        Cat     Food      S.S.Wet   \n",
       "498  65495               Chicken Mince        Dog     Food       Frozen   \n",
       "\n",
       "    SUBCATEGORY2                BRAND  ITEM_WEIGHT ITEM_UNIT_OF_MEASURE  \n",
       "46         Other               Bakers        0.001                   KG  \n",
       "47         Other               Bakers        0.001                   KG  \n",
       "123           Na         Miss Purfect        0.050                   KG  \n",
       "134        Adult  Durham Animal Feeds        0.500                   KG  \n",
       "189           Na                  NaN          NaN                  NaN  \n",
       "367        Adult              Gourmet        0.810                   KG  \n",
       "498        Adult       Raw And Simple        1.500                   KG  "
      ]
     },
     "execution_count": 233,
     "metadata": {},
     "output_type": "execute_result"
    }
   ],
   "source": [
    "result2 = {x for x in skus_data[\"SKU\"].unique() if x not in transactions_data[\"SKU\"].unique()}\n",
    "skus_data[skus_data[\"SKU\"].isin(result2)]"
   ]
  },
  {
   "cell_type": "markdown",
   "metadata": {},
   "source": [
    "### Count number of unique items sold together per transaction\n",
    "A purchase will be a unique transaction with possibly multiple items sold at the same time (i.e.: same unique transacation ID).\n",
    "We want to know the distribution of number of items sold per purchase."
   ]
  },
  {
   "cell_type": "code",
   "execution_count": 234,
   "metadata": {},
   "outputs": [
    {
     "data": {
      "text/plain": [
       "<BarContainer object of 12 artists>"
      ]
     },
     "execution_count": 234,
     "metadata": {},
     "output_type": "execute_result"
    },
    {
     "data": {
      "image/png": "[encoded data removed]",
      "text/plain": [
       "<Figure size 640x480 with 1 Axes>"
      ]
     },
     "metadata": {},
     "output_type": "display_data"
    }
   ],
   "source": [
    "sku_transactions_data = transactions_data.groupby([\"TRANSACTION_ID\"]).agg({\n",
    "    \"SKU\" : lambda x : x.nunique()\n",
    "}).reset_index().value_counts(\"SKU\")\n",
    "plt.bar(sku_transactions_data.index, sku_transactions_data.values)"
   ]
  },
  {
   "cell_type": "markdown",
   "metadata": {},
   "source": [
    "### Percentage of transactions with 2 items or more sold"
   ]
  },
  {
   "cell_type": "code",
   "execution_count": 235,
   "metadata": {},
   "outputs": [
    {
     "data": {
      "text/plain": [
       "np.float64(54.0)"
      ]
     },
     "execution_count": 235,
     "metadata": {},
     "output_type": "execute_result"
    }
   ],
   "source": [
    "round(1-sku_transactions_data.loc[1]/sku_transactions_data.sum(), 2)*100"
   ]
  },
  {
   "cell_type": "markdown",
   "metadata": {},
   "source": [
    "### Number of times an item has been bought"
   ]
  },
  {
   "cell_type": "code",
   "execution_count": 237,
   "metadata": {},
   "outputs": [
    {
     "data": {
      "image/png": "[encoded data removed]",
      "text/plain": [
       "<Figure size 640x480 with 1 Axes>"
      ]
     },
     "metadata": {},
     "output_type": "display_data"
    }
   ],
   "source": [
    "item_purchases = transactions_data.groupby([\"SKU\"]).agg(\n",
    "    {\"TRANSACTION_ID\" : \"count\"}\n",
    ").reset_index().rename(columns = {\"TRANSACTION_ID\" : \"TOTAL_TRANSACTION\"})\n",
    "\n",
    "plt.hist(item_purchases[\"TOTAL_TRANSACTION\"], bins = 100);"
   ]
  },
  {
   "cell_type": "markdown",
   "metadata": {},
   "source": [
    "# Low-frequence items analysis"
   ]
  },
  {
   "cell_type": "markdown",
   "metadata": {},
   "source": [
    "**REVENUE = SALE_PRICE_EX_VAT * QTY**\n"
   ]
  },
  {
   "cell_type": "code",
   "execution_count": 238,
   "metadata": {},
   "outputs": [],
   "source": [
    "transactions_data = transactions_data.merge(item_purchases, on = \"SKU\", how = \"left\")"
   ]
  },
  {
   "cell_type": "code",
   "execution_count": 254,
   "metadata": {},
   "outputs": [
    {
     "data": {
      "text/plain": [
       "np.float64(0.7951121178296454)"
      ]
     },
     "execution_count": 254,
     "metadata": {},
     "output_type": "execute_result"
    }
   ],
   "source": [
    "transactions_data[transactions_data[\"TOTAL_TRANSACTION\"] > 5][\"REVENUE\"].sum()/transactions_data[\"REVENUE\"].sum()"
   ]
  },
  {
   "cell_type": "markdown",
   "metadata": {},
   "source": [
    "### Check if a transaction ID is unique or uniquer per store"
   ]
  },
  {
   "cell_type": "code",
   "execution_count": 255,
   "metadata": {},
   "outputs": [
    {
     "data": {
      "text/plain": [
       "1"
      ]
     },
     "execution_count": 255,
     "metadata": {},
     "output_type": "execute_result"
    }
   ],
   "source": [
    "transactions_data.groupby(\"TRANSACTION_ID\").agg({\n",
    "    \"STORE_ID\" : lambda x : x.nunique()\n",
    "    }\n",
    ")[\"STORE_ID\"].nunique()"
   ]
  },
  {
   "cell_type": "markdown",
   "metadata": {},
   "source": [
    "Transaction ID is indeed unique across all the stores. It is not a unique Transaction ID per store."
   ]
  },
  {
   "cell_type": "markdown",
   "metadata": {},
   "source": [
    "### There are negative quantities. Is that returned items? We can drop them as it is only a few transactions.\n"
   ]
  },
  {
   "cell_type": "code",
   "execution_count": 87,
   "metadata": {},
   "outputs": [
    {
     "data": {
      "text/html": [
       "<div>\n",
       "<style scoped>\n",
       "    .dataframe tbody tr th:only-of-type {\n",
       "        vertical-align: middle;\n",
       "    }\n",
       "\n",
       "    .dataframe tbody tr th {\n",
       "        vertical-align: top;\n",
       "    }\n",
       "\n",
       "    .dataframe thead th {\n",
       "        text-align: right;\n",
       "    }\n",
       "</style>\n",
       "<table border=\"1\" class=\"dataframe\">\n",
       "  <thead>\n",
       "    <tr style=\"text-align: right;\">\n",
       "      <th></th>\n",
       "      <th>TRANSACTION_ID</th>\n",
       "      <th>TRANSACTION_LINE_ID</th>\n",
       "      <th>STORE_ID</th>\n",
       "      <th>SKU</th>\n",
       "      <th>SALE_PRICE_EX_VAT</th>\n",
       "      <th>REVENUE</th>\n",
       "      <th>QTY</th>\n",
       "      <th>DISCOUNT</th>\n",
       "    </tr>\n",
       "  </thead>\n",
       "  <tbody>\n",
       "    <tr>\n",
       "      <th>1017</th>\n",
       "      <td>126149042</td>\n",
       "      <td>446790067</td>\n",
       "      <td>15</td>\n",
       "      <td>36022</td>\n",
       "      <td>7.11700</td>\n",
       "      <td>-2.8468</td>\n",
       "      <td>-0.4</td>\n",
       "      <td>-0.1498</td>\n",
       "    </tr>\n",
       "    <tr>\n",
       "      <th>1100</th>\n",
       "      <td>126104768</td>\n",
       "      <td>446708690</td>\n",
       "      <td>13</td>\n",
       "      <td>62955</td>\n",
       "      <td>1.57500</td>\n",
       "      <td>-1.5750</td>\n",
       "      <td>-1.0</td>\n",
       "      <td>0.0000</td>\n",
       "    </tr>\n",
       "    <tr>\n",
       "      <th>1175</th>\n",
       "      <td>125741803</td>\n",
       "      <td>445667330</td>\n",
       "      <td>212</td>\n",
       "      <td>65597</td>\n",
       "      <td>0.00000</td>\n",
       "      <td>0.0000</td>\n",
       "      <td>-1.0</td>\n",
       "      <td>0.0000</td>\n",
       "    </tr>\n",
       "    <tr>\n",
       "      <th>3957</th>\n",
       "      <td>125608948</td>\n",
       "      <td>445270684</td>\n",
       "      <td>216</td>\n",
       "      <td>65597</td>\n",
       "      <td>0.00000</td>\n",
       "      <td>0.0000</td>\n",
       "      <td>-1.0</td>\n",
       "      <td>0.0000</td>\n",
       "    </tr>\n",
       "    <tr>\n",
       "      <th>4700</th>\n",
       "      <td>126028818</td>\n",
       "      <td>446433485</td>\n",
       "      <td>97</td>\n",
       "      <td>64952</td>\n",
       "      <td>1.04165</td>\n",
       "      <td>-2.0833</td>\n",
       "      <td>-2.0</td>\n",
       "      <td>0.0000</td>\n",
       "    </tr>\n",
       "    <tr>\n",
       "      <th>4870</th>\n",
       "      <td>125608948</td>\n",
       "      <td>445274062</td>\n",
       "      <td>216</td>\n",
       "      <td>65596</td>\n",
       "      <td>0.00000</td>\n",
       "      <td>0.0000</td>\n",
       "      <td>-1.0</td>\n",
       "      <td>0.0000</td>\n",
       "    </tr>\n",
       "  </tbody>\n",
       "</table>\n",
       "</div>"
      ],
      "text/plain": [
       "      TRANSACTION_ID  TRANSACTION_LINE_ID  STORE_ID    SKU  SALE_PRICE_EX_VAT  \\\n",
       "1017       126149042            446790067        15  36022            7.11700   \n",
       "1100       126104768            446708690        13  62955            1.57500   \n",
       "1175       125741803            445667330       212  65597            0.00000   \n",
       "3957       125608948            445270684       216  65597            0.00000   \n",
       "4700       126028818            446433485        97  64952            1.04165   \n",
       "4870       125608948            445274062       216  65596            0.00000   \n",
       "\n",
       "      REVENUE  QTY  DISCOUNT  \n",
       "1017  -2.8468 -0.4   -0.1498  \n",
       "1100  -1.5750 -1.0    0.0000  \n",
       "1175   0.0000 -1.0    0.0000  \n",
       "3957   0.0000 -1.0    0.0000  \n",
       "4700  -2.0833 -2.0    0.0000  \n",
       "4870   0.0000 -1.0    0.0000  "
      ]
     },
     "execution_count": 87,
     "metadata": {},
     "output_type": "execute_result"
    }
   ],
   "source": [
    "transactions_data[transactions_data[\"QTY\"]<0]"
   ]
  },
  {
   "cell_type": "markdown",
   "metadata": {},
   "source": [
    "### Count number of times a pair of items is bought together"
   ]
  },
  {
   "cell_type": "code",
   "execution_count": 318,
   "metadata": {},
   "outputs": [],
   "source": [
    "# Create all possible pairs\n",
    "pairs = list(product(skus_data[\"SKU\"].sort_values(), repeat=2))\n",
    "\n",
    "# # Create a new DataFrame with the pairs\n",
    "pairs_df = pd.DataFrame(pairs, columns=[\"SKU1\", \"SKU2\"])\n",
    "pairs_df[\"PurchasesCount\"] = 0\n",
    "\n",
    "pairs_df[\"SKU1\"], pairs_df[\"SKU2\"] = zip(*pairs_df.apply(lambda row: sorted([row[\"SKU1\"], row[\"SKU2\"]]), axis=1))\n",
    "pairs_df = pairs_df.drop_duplicates()\n",
    "pairs_df = pairs_df[pairs_df[\"SKU1\"] != pairs_df[\"SKU2\"]]"
   ]
  },
  {
   "cell_type": "code",
   "execution_count": 319,
   "metadata": {},
   "outputs": [],
   "source": [
    "skus_per_transaction = transactions_data.groupby([\"TRANSACTION_ID\"]).agg({\n",
    "    \"SKU\" : lambda x : set(list(x))\n",
    "}).reset_index()\n",
    "\n",
    "skus_per_transaction[\"SKU\"] = skus_per_transaction.SKU.map(lambda x : sorted(x))\n",
    "\n",
    "## Create all possible pairs (including self-pairs)\n",
    "skus_per_transaction[\"AllPairs\"] = skus_per_transaction[\"SKU\"].map(lambda x : list(product(x, repeat=2)))"
   ]
  },
  {
   "cell_type": "code",
   "execution_count": 320,
   "metadata": {},
   "outputs": [],
   "source": [
    "for _, row in skus_per_transaction.iterrows():\n",
    "    list_pairs = row[\"AllPairs\"]\n",
    "    for _pair in list_pairs:\n",
    "        sku_id1 = _pair[0]\n",
    "        sku_id2 = _pair[1]\n",
    "        if sku_id1 < sku_id2:\n",
    "            pairs_df.loc[(pairs_df[\"SKU1\"]==sku_id1) & (pairs_df[\"SKU2\"]==sku_id2), \"PurchasesCount\"] += 1"
   ]
  },
  {
   "cell_type": "code",
   "execution_count": 321,
   "metadata": {},
   "outputs": [],
   "source": [
    "pairs_df = pairs_df.merge(item_purchases, left_on = \"SKU1\", right_on = \"SKU\", how = \"left\").drop(columns = \"SKU\").rename(columns = {\"TOTAL_TRANSACTION\" : \"TOTAL_TRANSACTIONS_SKU1\"})\n",
    "pairs_df = pairs_df.merge(item_purchases, left_on = \"SKU2\", right_on = \"SKU\", how = \"left\").drop(columns = \"SKU\").rename(columns = {\"TOTAL_TRANSACTION\" : \"TOTAL_TRANSACTIONS_SKU2\"})"
   ]
  },
  {
   "cell_type": "code",
   "execution_count": null,
   "metadata": {},
   "outputs": [],
   "source": [
    "pairs_df[\"RATIO_SKU1\"] = pairs_df.apply(lambda x : x.PurchasesCount / x.TOTAL_TRANSACTIONS_SKU1 if x.TOTAL_TRANSACTIONS_SKU1 else 0, axis = 1)\n",
    "pairs_df[\"RATIO_SKU2\"] = pairs_df.apply(lambda x : x.PurchasesCount / x.TOTAL_TRANSACTIONS_SKU2 if x.TOTAL_TRANSACTIONS_SKU2 else 0, axis = 1)"
   ]
  },
  {
   "cell_type": "code",
   "execution_count": 328,
   "metadata": {},
   "outputs": [],
   "source": [
    "pairs_df[\"MAX_RATIO\"] = pairs_df.apply(lambda x : max(x.RATIO_SKU1, x.RATIO_SKU2), axis = 1)"
   ]
  },
  {
   "cell_type": "code",
   "execution_count": 333,
   "metadata": {},
   "outputs": [],
   "source": [
    "def filter_nbre_transactions(df, threshold_transactions):\n",
    "   df = df[df[\"TOTAL_TRANSACTIONS_SKU1\"]>threshold_transactions]\n",
    "   df = df[df[\"TOTAL_TRANSACTIONS_SKU2\"]>threshold_transactions]\n",
    "   return df"
   ]
  },
  {
   "cell_type": "code",
   "execution_count": 334,
   "metadata": {},
   "outputs": [
    {
     "data": {
      "text/html": [
       "<div>\n",
       "<style scoped>\n",
       "    .dataframe tbody tr th:only-of-type {\n",
       "        vertical-align: middle;\n",
       "    }\n",
       "\n",
       "    .dataframe tbody tr th {\n",
       "        vertical-align: top;\n",
       "    }\n",
       "\n",
       "    .dataframe thead th {\n",
       "        text-align: right;\n",
       "    }\n",
       "</style>\n",
       "<table border=\"1\" class=\"dataframe\">\n",
       "  <thead>\n",
       "    <tr style=\"text-align: right;\">\n",
       "      <th></th>\n",
       "      <th>SKU1</th>\n",
       "      <th>SKU2</th>\n",
       "      <th>PurchasesCount</th>\n",
       "      <th>TOTAL_TRANSACTIONS_SKU1</th>\n",
       "      <th>TOTAL_TRANSACTIONS_SKU2</th>\n",
       "      <th>RATIO_SKU1</th>\n",
       "      <th>RATIO_SKU2</th>\n",
       "      <th>MAX_RATIO</th>\n",
       "    </tr>\n",
       "  </thead>\n",
       "  <tbody>\n",
       "    <tr>\n",
       "      <th>217</th>\n",
       "      <td>7716</td>\n",
       "      <td>51113</td>\n",
       "      <td>1</td>\n",
       "      <td>7.0</td>\n",
       "      <td>60.0</td>\n",
       "      <td>0.142857</td>\n",
       "      <td>0.016667</td>\n",
       "      <td>0.142857</td>\n",
       "    </tr>\n",
       "    <tr>\n",
       "      <th>419</th>\n",
       "      <td>7716</td>\n",
       "      <td>63147</td>\n",
       "      <td>1</td>\n",
       "      <td>7.0</td>\n",
       "      <td>33.0</td>\n",
       "      <td>0.142857</td>\n",
       "      <td>0.030303</td>\n",
       "      <td>0.142857</td>\n",
       "    </tr>\n",
       "    <tr>\n",
       "      <th>463</th>\n",
       "      <td>7716</td>\n",
       "      <td>65598</td>\n",
       "      <td>1</td>\n",
       "      <td>7.0</td>\n",
       "      <td>255.0</td>\n",
       "      <td>0.142857</td>\n",
       "      <td>0.003922</td>\n",
       "      <td>0.142857</td>\n",
       "    </tr>\n",
       "    <tr>\n",
       "      <th>564</th>\n",
       "      <td>8462</td>\n",
       "      <td>20642</td>\n",
       "      <td>1</td>\n",
       "      <td>5.0</td>\n",
       "      <td>7.0</td>\n",
       "      <td>0.200000</td>\n",
       "      <td>0.142857</td>\n",
       "      <td>0.200000</td>\n",
       "    </tr>\n",
       "    <tr>\n",
       "      <th>592</th>\n",
       "      <td>8462</td>\n",
       "      <td>27686</td>\n",
       "      <td>1</td>\n",
       "      <td>5.0</td>\n",
       "      <td>7.0</td>\n",
       "      <td>0.200000</td>\n",
       "      <td>0.142857</td>\n",
       "      <td>0.200000</td>\n",
       "    </tr>\n",
       "    <tr>\n",
       "      <th>...</th>\n",
       "      <td>...</td>\n",
       "      <td>...</td>\n",
       "      <td>...</td>\n",
       "      <td>...</td>\n",
       "      <td>...</td>\n",
       "      <td>...</td>\n",
       "      <td>...</td>\n",
       "      <td>...</td>\n",
       "    </tr>\n",
       "    <tr>\n",
       "      <th>124343</th>\n",
       "      <td>65785</td>\n",
       "      <td>66971</td>\n",
       "      <td>2</td>\n",
       "      <td>16.0</td>\n",
       "      <td>17.0</td>\n",
       "      <td>0.125000</td>\n",
       "      <td>0.117647</td>\n",
       "      <td>0.125000</td>\n",
       "    </tr>\n",
       "    <tr>\n",
       "      <th>124400</th>\n",
       "      <td>65801</td>\n",
       "      <td>65805</td>\n",
       "      <td>1</td>\n",
       "      <td>8.0</td>\n",
       "      <td>7.0</td>\n",
       "      <td>0.125000</td>\n",
       "      <td>0.142857</td>\n",
       "      <td>0.142857</td>\n",
       "    </tr>\n",
       "    <tr>\n",
       "      <th>124418</th>\n",
       "      <td>65801</td>\n",
       "      <td>66597</td>\n",
       "      <td>1</td>\n",
       "      <td>8.0</td>\n",
       "      <td>22.0</td>\n",
       "      <td>0.125000</td>\n",
       "      <td>0.045455</td>\n",
       "      <td>0.125000</td>\n",
       "    </tr>\n",
       "    <tr>\n",
       "      <th>124730</th>\n",
       "      <td>66597</td>\n",
       "      <td>66601</td>\n",
       "      <td>2</td>\n",
       "      <td>22.0</td>\n",
       "      <td>9.0</td>\n",
       "      <td>0.090909</td>\n",
       "      <td>0.222222</td>\n",
       "      <td>0.222222</td>\n",
       "    </tr>\n",
       "    <tr>\n",
       "      <th>124736</th>\n",
       "      <td>66599</td>\n",
       "      <td>66603</td>\n",
       "      <td>1</td>\n",
       "      <td>9.0</td>\n",
       "      <td>14.0</td>\n",
       "      <td>0.111111</td>\n",
       "      <td>0.071429</td>\n",
       "      <td>0.111111</td>\n",
       "    </tr>\n",
       "  </tbody>\n",
       "</table>\n",
       "<p>1873 rows × 8 columns</p>\n",
       "</div>"
      ],
      "text/plain": [
       "         SKU1   SKU2  PurchasesCount  TOTAL_TRANSACTIONS_SKU1  \\\n",
       "217      7716  51113               1                      7.0   \n",
       "419      7716  63147               1                      7.0   \n",
       "463      7716  65598               1                      7.0   \n",
       "564      8462  20642               1                      5.0   \n",
       "592      8462  27686               1                      5.0   \n",
       "...       ...    ...             ...                      ...   \n",
       "124343  65785  66971               2                     16.0   \n",
       "124400  65801  65805               1                      8.0   \n",
       "124418  65801  66597               1                      8.0   \n",
       "124730  66597  66601               2                     22.0   \n",
       "124736  66599  66603               1                      9.0   \n",
       "\n",
       "        TOTAL_TRANSACTIONS_SKU2  RATIO_SKU1  RATIO_SKU2  MAX_RATIO  \n",
       "217                        60.0    0.142857    0.016667   0.142857  \n",
       "419                        33.0    0.142857    0.030303   0.142857  \n",
       "463                       255.0    0.142857    0.003922   0.142857  \n",
       "564                         7.0    0.200000    0.142857   0.200000  \n",
       "592                         7.0    0.200000    0.142857   0.200000  \n",
       "...                         ...         ...         ...        ...  \n",
       "124343                     17.0    0.125000    0.117647   0.125000  \n",
       "124400                      7.0    0.125000    0.142857   0.142857  \n",
       "124418                     22.0    0.125000    0.045455   0.125000  \n",
       "124730                      9.0    0.090909    0.222222   0.222222  \n",
       "124736                     14.0    0.111111    0.071429   0.111111  \n",
       "\n",
       "[1873 rows x 8 columns]"
      ]
     },
     "execution_count": 334,
     "metadata": {},
     "output_type": "execute_result"
    }
   ],
   "source": [
    "pairs_df = filter_nbre_transactions(pairs_df, 4)\n",
    "pairs_df[pairs_df[\"MAX_RATIO\"]>0.10]"
   ]
  },
  {
   "cell_type": "code",
   "execution_count": 335,
   "metadata": {},
   "outputs": [
    {
     "data": {
      "text/plain": [
       "337"
      ]
     },
     "execution_count": 335,
     "metadata": {},
     "output_type": "execute_result"
    }
   ],
   "source": [
    "pairs_df[\"SKU1\"].nunique()"
   ]
  }
 ],
 "metadata": {
  "kernelspec": {
   "display_name": "env",
   "language": "python",
   "name": "python3"
  },
  "language_info": {
   "codemirror_mode": {
    "name": "ipython",
    "version": 3
   },
   "file_extension": ".py",
   "mimetype": "text/x-python",
   "name": "python",
   "nbconvert_exporter": "python",
   "pygments_lexer": "ipython3",
   "version": "3.10.12"
  }
 },
 "nbformat": 4,
 "nbformat_minor": 2
}
