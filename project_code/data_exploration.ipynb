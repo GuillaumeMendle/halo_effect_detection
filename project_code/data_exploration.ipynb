{
 "cells": [
  {
   "cell_type": "code",
   "execution_count": 1,
   "metadata": {},
   "outputs": [],
   "source": [
    "import pandas as pd\n",
    "import numpy as np\n",
    "import os\n",
    "import pyvis\n",
    "import networkx as nx\n",
    "from matplotlib import pyplot as plt\n",
    "from itertools import product\n",
    "import plotly.graph_objects as go\n",
    "import plotly.express as px\n",
    "import seaborn as sns\n",
    "import project_code.utils as ut\n",
    "# pip install --upgrade nbformat\n",
    "# pip install -U kaleido"
   ]
  },
  {
   "cell_type": "code",
   "execution_count": 2,
   "metadata": {},
   "outputs": [],
   "source": [
    "pd.set_option('display.max_columns', None)"
   ]
  },
  {
   "cell_type": "code",
   "execution_count": 3,
   "metadata": {},
   "outputs": [],
   "source": [
    "# ut.CURRENT_DIRECTORY = os.getcwd()"
   ]
  },
  {
   "cell_type": "code",
   "execution_count": 4,
   "metadata": {},
   "outputs": [],
   "source": [
    "class DataPreprocessing:\n",
    "    def import_data(self) -> tuple[pd.DataFrame, pd.DataFrame]:\n",
    "        \"\"\"\n",
    "        Return the SKUs and Transactions datasets.  \n",
    "        \"\"\"\n",
    "        skus_data = pd.read_csv(f\"{ut.CURRENT_DIRECTORY}/data/skus.csv\", delimiter = \",\")\n",
    "        transactions_data = pd.read_csv(f\"{ut.CURRENT_DIRECTORY}/data/transactions.csv\", delimiter = \",\")\n",
    "        return skus_data, transactions_data\n",
    "\n",
    "    def merge_skus_transactions(self, df_skus : pd.DataFrame, df_transactions : pd.DataFrame) -> pd.DataFrame:\n",
    "        \"\"\"\n",
    "        Merge SKUs and Transactions datasets.  \n",
    "        \"\"\"\n",
    "        return df_transactions.merge(df_skus, on = \"SKU\", how = \"left\")\n",
    "    \n",
    "    def add_transaction_details_skus(self, df_skus : pd.DataFrame, df_baskets : pd.DataFrame) -> pd.DataFrame:\n",
    "        \"\"\"\n",
    "        Add the Total Revenue and Total Number of transactions for every item.\n",
    "        \"\"\"\n",
    "        return df_skus.merge(df_baskets, on = \"SKU\", how = \"left\")"
   ]
  },
  {
   "cell_type": "code",
   "execution_count": 5,
   "metadata": {},
   "outputs": [],
   "source": [
    "class DataExploration(DataPreprocessing):\n",
    "    def find_missing_SKU_transactions(self, df_skus : pd.DataFrame, df_transactions : pd.DataFrame) -> pd.DataFrame:\n",
    "        \"\"\"\n",
    "        Return missing SKUs in the transactions dataset. \n",
    "        \"\"\"\n",
    "        list_skus = {x for x in df_skus[\"SKU\"].unique() if x not in df_transactions[\"SKU\"].unique()}\n",
    "        return df_skus[df_skus[\"SKU\"].isin(list_skus)]\n",
    "    \n",
    "    def count_items_sold_transaction(self, df : pd.DataFrame) -> pd.DataFrame:\n",
    "        \"\"\"\n",
    "        Count the number of items sold per basket for each transaction. \n",
    "        \"\"\"\n",
    "        return df.groupby([\"TRANSACTION_ID\"]).agg({\n",
    "            \"SKU\" : lambda x : x.nunique()\n",
    "        }).reset_index().value_counts(\"SKU\")\n",
    "\n",
    "    # def nbre_transactions_mutliple_items(self, df : pd.DataFrame) -> float:\n",
    "    #     \"\"\"\n",
    "    #     Return the ...\n",
    "    #     \"\"\"\n",
    "    #     return round(1-df.loc[1]/df.sum(), 2)*100\n",
    "\n",
    "    def plot_distribution_items_transaction(self, df : pd.DataFrame) -> None:\n",
    "        \"\"\"\n",
    "        Save the distribution of numbe of items in a basket. \n",
    "        \"\"\"\n",
    "        plt.figure(figsize = (8,6))\n",
    "        plt.bar(df.index, df.values,color='skyblue', edgecolor='black', alpha=0.8)\n",
    "        plt.title(\"Distribution of the number of items in a basket\", fontsize=12, fontweight='bold')\n",
    "        plt.xlabel(\"Number of items per basket\", fontsize=12)\n",
    "        plt.ylabel(\"Number of basket with X items\", fontsize=12)\n",
    "        plt.grid(axis='y', linestyle='--', alpha=0.6)\n",
    "        plt.savefig(f\"{ut.CURRENT_DIRECTORY}/data/nbre_items_per_transaction.png\")\n",
    "        plt.close()\n",
    "\n",
    "    def plot_hierarchical_categories(self, df : pd.DataFrame) -> None:\n",
    "        \"\"\"\n",
    "        Save plot of the hierarchy within the SKUs data. Departments -> Categories -> etc.\n",
    "        \"\"\"\n",
    "        hierarchical_categories = df[[\"DEPARTMENT\", \"CATEGORY\"]].drop_duplicates()\n",
    "        fig = px.treemap(hierarchical_categories, path=[\"DEPARTMENT\", \"CATEGORY\"])\n",
    "        fig.write_image(f\"{ut.CURRENT_DIRECTORY}/data/department_category_tree.png\")\n",
    "\n",
    "    def calculate_items_bought(self, df : pd.DataFrame) -> pd.DataFrame:\n",
    "        \"\"\"\n",
    "        Calculate the number of times an item appears in a basket and sum the total revenue generated. \n",
    "        \"\"\"\n",
    "        return df.groupby([\"SKU\"]).agg(\n",
    "            SKU_TOTAL_TRANSACTION = (\"TRANSACTION_ID\", \"count\"),\n",
    "            SKU_TOTAL_REVENUE = (\"REVENUE\", \"sum\")\n",
    "    ).reset_index()\n",
    "\n",
    "    def share_revenue_items_sold(self, df : pd.DataFrame, threshold_transactions : int) -> float:\n",
    "        \"\"\"\n",
    "        Return percentage of revenue one keeps after dropping low-frequency items. \n",
    "        \"\"\"\n",
    "        return df[df[\"SKU_TOTAL_TRANSACTION\"] >= threshold_transactions][\"SKU_TOTAL_REVENUE\"].sum()/df[\"SKU_TOTAL_REVENUE\"].sum()\n",
    "    \n",
    "    def remove_anomalies(self, df : pd.DataFrame) -> pd.DataFrame:\n",
    "        \"\"\"\n",
    "        Remove negative Quantity and Revenue for data consistency.\n",
    "        \"\"\"\n",
    "        df = df[df[\"QTY\"]>0]\n",
    "        df = df[df[\"REVENUE\"]> 0]\n",
    "        return df\n"
   ]
  },
  {
   "cell_type": "code",
   "execution_count": 23,
   "metadata": {},
   "outputs": [],
   "source": [
    "date_exploration = DataExploration()\n",
    "skus_data, transactions_data = date_exploration.import_data()\n",
    "transactions_data = date_exploration.merge_skus_transactions(skus_data, transactions_data)\n",
    "date_exploration.plot_hierarchical_categories(skus_data)\n",
    "date_exploration.find_missing_SKU_transactions(skus_data, transactions_data)\n",
    "sku_transactions_data = date_exploration.count_items_sold_transaction(transactions_data)\n",
    "\n",
    "round(1-sku_transactions_data.loc[1]/sku_transactions_data.sum(), 2)*100\n",
    "\n",
    "date_exploration.plot_distribution_items_transaction(sku_transactions_data)\n",
    "\n",
    "\n",
    "df_item_purchases = date_exploration.calculate_items_bought(transactions_data)\n",
    "\n",
    "df_item_purchases[\"SKU_TOTAL_TRANSACTION\"].mean()\n",
    "\n",
    "skus_data = date_exploration.add_transaction_details_skus(skus_data, df_item_purchases)\n",
    "\n",
    "date_exploration.share_revenue_items_sold(skus_data, 6)\n",
    "\n",
    "transactions_data = date_exploration.remove_anomalies(transactions_data)"
   ]
  },
  {
   "cell_type": "markdown",
   "metadata": {},
   "source": [
    "- **REVENUE = SALE_PRICE_EX_VAT * QTY**\n",
    "- **SALE_PRICE_EX_VAT = NORMAL PRICE - DISCOUNT**"
   ]
  },
  {
   "cell_type": "markdown",
   "metadata": {},
   "source": [
    "# Missing data"
   ]
  },
  {
   "cell_type": "code",
   "execution_count": 114,
   "metadata": {},
   "outputs": [
    {
     "data": {
      "text/plain": [
       "TRANSACTION_ID          False\n",
       "TRANSACTION_LINE_ID     False\n",
       "STORE_ID                False\n",
       "SKU                     False\n",
       "SALE_PRICE_EX_VAT       False\n",
       "REVENUE                 False\n",
       "QTY                     False\n",
       "DISCOUNT                False\n",
       "ITEM_DESCRIPTION        False\n",
       "DEPARTMENT              False\n",
       "CATEGORY                False\n",
       "SUBCATEGORY1            False\n",
       "SUBCATEGORY2            False\n",
       "BRAND                   False\n",
       "ITEM_WEIGHT              True\n",
       "ITEM_UNIT_OF_MEASURE     True\n",
       "dtype: bool"
      ]
     },
     "execution_count": 114,
     "metadata": {},
     "output_type": "execute_result"
    }
   ],
   "source": [
    "transactions_data.isna().any()"
   ]
  },
  {
   "cell_type": "markdown",
   "metadata": {},
   "source": [
    "### Count number of unique items sold together per transaction\n",
    "A purchase will be a unique transaction with possibly multiple items sold at the same time (i.e.: same unique transacation ID).\n",
    "We want to know the distribution of number of items sold per purchase."
   ]
  },
  {
   "cell_type": "markdown",
   "metadata": {},
   "source": [
    "### Number of times an item has been bought"
   ]
  },
  {
   "cell_type": "markdown",
   "metadata": {},
   "source": [
    "# Low-frequence items analysis\n",
    "What percentage of revenue do we lose by dropping low-frequency items?"
   ]
  },
  {
   "cell_type": "markdown",
   "metadata": {},
   "source": [
    "**REVENUE = SALE_PRICE_EX_VAT * QTY**\n"
   ]
  },
  {
   "cell_type": "markdown",
   "metadata": {},
   "source": [
    "### Check if a transaction ID is unique or unique per store"
   ]
  },
  {
   "cell_type": "code",
   "execution_count": 180,
   "metadata": {},
   "outputs": [
    {
     "data": {
      "text/plain": [
       "1"
      ]
     },
     "execution_count": 180,
     "metadata": {},
     "output_type": "execute_result"
    }
   ],
   "source": [
    "transactions_data.groupby(\"TRANSACTION_ID\").agg({\n",
    "    \"STORE_ID\" : lambda x : x.nunique()\n",
    "    }\n",
    ")[\"STORE_ID\"].nunique()"
   ]
  },
  {
   "cell_type": "markdown",
   "metadata": {},
   "source": [
    "Transaction ID is indeed unique across all the stores. It is not a unique Transaction ID per store."
   ]
  },
  {
   "cell_type": "markdown",
   "metadata": {},
   "source": [
    "### There are negative quantities. Is that returned items? We can drop them as it is only a few transactions.\n"
   ]
  },
  {
   "cell_type": "markdown",
   "metadata": {},
   "source": [
    "### Effect of promotion on data"
   ]
  },
  {
   "cell_type": "markdown",
   "metadata": {},
   "source": [
    "Flag if there is a discount applied and calculate the value of the discount"
   ]
  },
  {
   "cell_type": "code",
   "execution_count": 52,
   "metadata": {},
   "outputs": [],
   "source": [
    "class DiscountEffect:\n",
    "    def discount_flag_and_calculation(self, df : pd.DataFrame) -> pd.DataFrame:\n",
    "        \"\"\"\n",
    "        Flag if a discount is applied on the item purchased for a transaction.\n",
    "        Calculate the percentage of discount applied. \n",
    "        \"\"\"\n",
    "        ## Flag if a discount is applied to the sale\n",
    "        df[\"DISCOUNT_APPLIED\"] = df[\"DISCOUNT\"].map(lambda x : 0 if x==0 else 1)\n",
    "\n",
    "        ## Calculate the percentage of the discount applied\n",
    "        df[\"DISCOUNT_VALUE\"] = 1-df[\"SALE_PRICE_EX_VAT\"]/(df[\"SALE_PRICE_EX_VAT\"] + transactions_data_discount[\"DISCOUNT\"])\n",
    "        return df\n",
    "    \n",
    "    def flag_discounted_SKU(self, df : pd.DataFrame) -> pd.DataFrame:\n",
    "        \"\"\"\n",
    "        Return SKUs which got sold discounted and not discounted over the past 3 months.\n",
    "        \"\"\"\n",
    "        discount_df = df.groupby([\"SKU\"]).agg(\n",
    "                DISCOUNT_NO_DISCOUNT = (\"DISCOUNT_APPLIED\", lambda x : x.nunique())\n",
    "        ).reset_index()\n",
    "\n",
    "        return df.merge(discount_df, on = \"SKU\", how = \"left\")\n",
    "    \n",
    "    def filter_skus_per_discount_value(self, df : pd.DataFrame, threshold_discount_min : int) -> pd.DataFrame:\n",
    "        \"\"\"\n",
    "        Keep transactions with a threshold_discount_min discount < threshold_discount_max and transactions with no discount.\n",
    "        It will be used for further analysis to compare the effect of the discount percentage.\n",
    "        \"\"\"\n",
    "\n",
    "        threshold_discount_max = threshold_discount_min+0.05\n",
    "        ## Find SKUs that have been sold with at normal price and discounted price lower than the threshold\n",
    "        sku_discount = df[df[\"DISCOUNT_VALUE\"]>threshold_discount_min][\"SKU\"]\n",
    "\n",
    "        ## Only keep the transaction for those SKUs\n",
    "        df = df[(df[\"SKU\"].isin(sku_discount))]\n",
    "\n",
    "        ## Return only the transactions with a discount < threshold or no discount\n",
    "        return df[(df[\"DISCOUNT_VALUE\"].between(threshold_discount_min, threshold_discount_max)) | (df[\"DISCOUNT_APPLIED\"]==0)]\n",
    "    \n",
    "    def measure_sales_volume_per_transaction(self, df : pd.DataFrame) -> pd.DataFrame:\n",
    "        \"\"\"\n",
    "        1. Find the volume of quantity sold with and without discount.\n",
    "        2. Calculate the ratio of quantity sold per transaction.\n",
    "        3. Return the average of the calculated ratio for transaction with and without discount for comparison.\n",
    "        \"\"\"\n",
    "        ## Find the volume of quantity sold with and without discount\n",
    "        qty_df = df.groupby([\"SKU\", \"DISCOUNT_APPLIED\"]).agg(\n",
    "                QTY_SOLD = (\"QTY\", \"sum\"),\n",
    "                NBRE_TRANSACTIONS = (\"QTY\", \"count\")\n",
    "        )\n",
    "\n",
    "        ## Calculate the ratio of quantity sold per transaction\n",
    "        qty_df[\"RATIO_QTY_SOLD\"] = qty_df[\"QTY_SOLD\"]/qty_df[\"NBRE_TRANSACTIONS\"]\n",
    "        qty_df = qty_df.reset_index()\n",
    "\n",
    "        ## Return the average of the calculated ratio for transaction with and without discount\n",
    "        return qty_df[qty_df[\"DISCOUNT_APPLIED\"]==0][\"RATIO_QTY_SOLD\"].mean(), qty_df[qty_df[\"DISCOUNT_APPLIED\"]==1][\"RATIO_QTY_SOLD\"].mean()\n",
    "    \n",
    "    def measure_impact_discount(self, df : pd.DataFrame, threshold_discount_max : float) -> pd.DataFrame:\n",
    "        \"\"\"\n",
    "        Return the average ratio quantity/transactions for items sold without discount\n",
    "        and items sold after applying a promotion lower than a threshold. \n",
    "        \"\"\"\n",
    "        all_threshold_discount = []\n",
    "        all_ratio_no_discount = []\n",
    "        all_ratio_discount = []\n",
    "        \n",
    "        ## Measure impact of discount for a range of thresholds\n",
    "        for threshold_discount in np.arange(0, threshold_discount_max, 0.05):\n",
    "            df1 = df.copy()\n",
    "            df1 = df1[df1[\"DISCOUNT_NO_DISCOUNT\"]==2]\n",
    "            transactions_data_discount_filtered = self.filter_skus_per_discount_value(df1, threshold_discount)\n",
    "            ratio_without_discount, ratio_with_discount = self.measure_sales_volume_per_transaction(transactions_data_discount_filtered)\n",
    "\n",
    "            all_threshold_discount.append(threshold_discount)\n",
    "            all_ratio_no_discount.append(ratio_without_discount)\n",
    "            all_ratio_discount.append(ratio_with_discount)\n",
    "        return pd.DataFrame({\"DISCOUNT_VALUE\" : all_threshold_discount, \"SALES_RATIO_NO_DISCOUNT\" : all_ratio_no_discount, \"SALES_RATIO_WITH_DISCOUNT\" : all_ratio_discount})\n",
    "\n",
    "    def plot_impact_discount(self, df):\n",
    "        plt.figure(figsize = (8,6))\n",
    "        plt.plot(df[\"DISCOUNT_VALUE\"], df[\"SALES_RATIO_NO_DISCOUNT\"], label = \"QUANTITY SOLD PER TRANSACTION - NO DISCOUNT\")\n",
    "        plt.plot(df[\"DISCOUNT_VALUE\"], df[\"SALES_RATIO_WITH_DISCOUNT\"], label = \"QUANTITY SOLD PER TRANSACTION - WITH DISCOUNT\")\n",
    "        plt.xticks(df[\"DISCOUNT_VALUE\"])\n",
    "        plt.yticks()\n",
    "        plt.legend()\n",
    "        plt.xlabel(\"Percentage of discount applied\")\n",
    "        plt.ylabel(\"Average quantity sold per transaction\")\n",
    "        plt.title(\"Average quantity sold per transaction - with/without discount\")\n",
    "        plt.grid()\n",
    "        # plt.show()\n",
    "        plt.savefig(f\"{ut.CURRENT_DIRECTORY}/data/impact_discount_on_quantity.png\")\n",
    "        plt.close()"
   ]
  },
  {
   "cell_type": "code",
   "execution_count": 53,
   "metadata": {},
   "outputs": [],
   "source": [
    "discount_effect = DiscountEffect()\n",
    "transactions_data_discount = transactions_data.copy()\n",
    "\n",
    "transactions_data_discount = discount_effect.discount_flag_and_calculation(transactions_data_discount)\n",
    "\n",
    "transactions_data_discount[\"DISCOUNT_APPLIED\"].value_counts()\n",
    "\n",
    "transactions_data_discount = discount_effect.flag_discounted_SKU(transactions_data_discount)\n",
    "transactions_data_discount[\"DISCOUNT_NO_DISCOUNT\"].value_counts()\n",
    "\n",
    "df_impact_discount = discount_effect.measure_impact_discount(transactions_data_discount, 0.60)\n",
    "discount_effect.plot_impact_discount(df_impact_discount)"
   ]
  }
 ],
 "metadata": {
  "kernelspec": {
   "display_name": "env",
   "language": "python",
   "name": "python3"
  },
  "language_info": {
   "codemirror_mode": {
    "name": "ipython",
    "version": 3
   },
   "file_extension": ".py",
   "mimetype": "text/x-python",
   "name": "python",
   "nbconvert_exporter": "python",
   "pygments_lexer": "ipython3",
   "version": "3.10.12"
  }
 },
 "nbformat": 4,
 "nbformat_minor": 2
}
