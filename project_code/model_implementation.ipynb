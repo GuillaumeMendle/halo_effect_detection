{
 "cells": [
  {
   "cell_type": "code",
   "execution_count": 2,
   "metadata": {},
   "outputs": [],
   "source": [
    "import pandas as pd\n",
    "import numpy as np\n",
    "import os\n",
    "import pyvis\n",
    "import networkx as nx\n",
    "from matplotlib import pyplot as plt\n",
    "from itertools import product"
   ]
  },
  {
   "cell_type": "code",
   "execution_count": 3,
   "metadata": {},
   "outputs": [],
   "source": [
    "pd.set_option('display.max_columns', None)\n",
    "pd.set_option('display.max_rows', 10)"
   ]
  },
  {
   "cell_type": "code",
   "execution_count": 4,
   "metadata": {},
   "outputs": [],
   "source": [
    "current_directory = os.getcwd()"
   ]
  },
  {
   "cell_type": "code",
   "execution_count": 5,
   "metadata": {},
   "outputs": [],
   "source": [
    "skus_data = pd.read_csv(f\"{current_directory}/data/skus.csv\", delimiter = \",\")\n",
    "transactions_data = pd.read_csv(f\"{current_directory}/data/transactions.csv\", delimiter = \",\")"
   ]
  },
  {
   "cell_type": "code",
   "execution_count": 9,
   "metadata": {},
   "outputs": [],
   "source": [
    "item_purchases = transactions_data.groupby([\"SKU\"]).agg(\n",
    "    {\"TRANSACTION_ID\" : \"count\"}\n",
    ").reset_index().rename(columns = {\"TRANSACTION_ID\" : \"TOTAL_TRANSACTION\"})"
   ]
  },
  {
   "cell_type": "code",
   "execution_count": 8,
   "metadata": {},
   "outputs": [],
   "source": [
    "transactions_data = transactions_data.merge(item_purchases, on = \"SKU\", how = \"left\")"
   ]
  },
  {
   "cell_type": "code",
   "execution_count": null,
   "metadata": {},
   "outputs": [],
   "source": [
    "# Create all possible pairs\n",
    "pairs = list(product(skus_data[\"SKU\"].sort_values(), repeat=2))\n",
    "\n",
    "# # Create a new DataFrame with the pairs\n",
    "pairs_df = pd.DataFrame(pairs, columns=[\"SKU_1\", \"SKU_2\"])\n",
    "pairs_df[\"PurchasesCount\"] = 0\n",
    "\n",
    "# pairs_df[\"SKU1\"], pairs_df[\"SKU2\"] = zip(*pairs_df.apply(lambda row: sorted([row[\"SKU1\"], row[\"SKU2\"]]), axis=1))\n",
    "# pairs_df = pairs_df.drop_duplicates()\n",
    "pairs_df = pairs_df[pairs_df[\"SKU_1\"] != pairs_df[\"SKU_2\"]]"
   ]
  },
  {
   "cell_type": "code",
   "execution_count": null,
   "metadata": {},
   "outputs": [],
   "source": [
    "skus_per_transaction = transactions_data.groupby([\"TRANSACTION_ID\"]).agg({\n",
    "    \"SKU\" : lambda x : set(list(x))\n",
    "}).reset_index()\n",
    "\n",
    "skus_per_transaction[\"SKU\"] = skus_per_transaction.SKU.map(lambda x : sorted(x))\n",
    "\n",
    "## Create all possible pairs (including self-pairs)\n",
    "skus_per_transaction[\"AllPairs\"] = skus_per_transaction[\"SKU\"].map(lambda x : list(product(x, repeat=2)))"
   ]
  },
  {
   "cell_type": "code",
   "execution_count": null,
   "metadata": {},
   "outputs": [],
   "source": [
    "for _, row in skus_per_transaction.iterrows():\n",
    "    list_pairs = row[\"AllPairs\"]\n",
    "    for _pair in list_pairs:\n",
    "        sku_id1 = _pair[0]\n",
    "        sku_id2 = _pair[1]\n",
    "        # if sku_id1 < sku_id2:\n",
    "        pairs_df.loc[(pairs_df[\"SKU_1\"]==sku_id1) & (pairs_df[\"SKU_2\"]==sku_id2), \"PurchasesCount\"] += 1"
   ]
  },
  {
   "cell_type": "code",
   "execution_count": null,
   "metadata": {},
   "outputs": [],
   "source": [
    "pairs_df = pairs_df.merge(item_purchases, left_on = \"SKU_1\", right_on = \"SKU\", how = \"left\").drop(columns = \"SKU\").rename(columns = {\"TOTAL_TRANSACTION\" : \"TOTAL_TRANSACTIONS_SKU_1\"})\n",
    "pairs_df = pairs_df.merge(item_purchases, left_on = \"SKU_2\", right_on = \"SKU\", how = \"left\").drop(columns = \"SKU\").rename(columns = {\"TOTAL_TRANSACTION\" : \"TOTAL_TRANSACTIONS_SKU_2\"})"
   ]
  },
  {
   "cell_type": "code",
   "execution_count": null,
   "metadata": {},
   "outputs": [],
   "source": [
    "skus_data1 = skus_data.copy()\n",
    "skus_data1.columns = [str(x)+\"_1\" for x in skus_data1.columns]\n",
    "\n",
    "skus_data2 = skus_data.copy()\n",
    "skus_data2.columns = [str(x)+\"_2\" for x in skus_data2.columns]"
   ]
  },
  {
   "cell_type": "code",
   "execution_count": null,
   "metadata": {},
   "outputs": [],
   "source": [
    "pairs_df = pairs_df.merge(skus_data1, on = \"SKU_1\", how = \"left\")\n",
    "pairs_df = pairs_df.merge(skus_data2, on = \"SKU_2\", how = \"left\")"
   ]
  },
  {
   "cell_type": "code",
   "execution_count": null,
   "metadata": {},
   "outputs": [],
   "source": [
    "pairs_df[\"RATIO_SKU_1\"] = pairs_df.apply(lambda x : x.PurchasesCount / x.TOTAL_TRANSACTIONS_SKU_1 if x.TOTAL_TRANSACTIONS_SKU_1 else 0, axis = 1)\n",
    "pairs_df[\"RATIO_SKU_2\"] = pairs_df.apply(lambda x : x.PurchasesCount / x.TOTAL_TRANSACTIONS_SKU_2 if x.TOTAL_TRANSACTIONS_SKU_2 else 0, axis = 1)"
   ]
  },
  {
   "cell_type": "code",
   "execution_count": null,
   "metadata": {},
   "outputs": [],
   "source": [
    "pairs_df[\"MAX_RATIO\"] = pairs_df.apply(lambda x : max(x.RATIO_SKU_1, x.RATIO_SKU_2), axis = 1)"
   ]
  },
  {
   "cell_type": "code",
   "execution_count": null,
   "metadata": {},
   "outputs": [],
   "source": [
    "def filter_nbre_transactions(df, threshold_transactions):\n",
    "   df = df[df[\"TOTAL_TRANSACTIONS_SKU_1\"]>=threshold_transactions]\n",
    "   df = df[df[\"TOTAL_TRANSACTIONS_SKU_2\"]>=threshold_transactions]\n",
    "   return df"
   ]
  },
  {
   "cell_type": "code",
   "execution_count": null,
   "metadata": {},
   "outputs": [],
   "source": [
    "pairs_df_filtred = filter_nbre_transactions(pairs_df, 6)\n",
    "tt = pairs_df_filtred[(pairs_df_filtred[\"MAX_RATIO\"]>=0.10)]\n",
    "tt = tt[(tt[\"PurchasesCount\"]>=3)]"
   ]
  },
  {
   "cell_type": "code",
   "execution_count": null,
   "metadata": {},
   "outputs": [],
   "source": [
    "ll = tt.groupby([\"SKU_1\"]).agg(\n",
    "    nbre_halo_effect = (\"SKU_2\", \"count\")\n",
    ").reset_index()\n",
    "\n",
    "ll[\"nbre_halo_effect\"].value_counts().sort_index()"
   ]
  }
 ],
 "metadata": {
  "kernelspec": {
   "display_name": "env",
   "language": "python",
   "name": "python3"
  },
  "language_info": {
   "codemirror_mode": {
    "name": "ipython",
    "version": 3
   },
   "file_extension": ".py",
   "mimetype": "text/x-python",
   "name": "python",
   "nbconvert_exporter": "python",
   "pygments_lexer": "ipython3",
   "version": "3.10.12"
  }
 },
 "nbformat": 4,
 "nbformat_minor": 2
}
